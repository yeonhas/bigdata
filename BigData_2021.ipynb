{
  "nbformat": 4,
  "nbformat_minor": 0,
  "metadata": {
    "colab": {
      "name": "BigData_2021.ipynb",
      "provenance": [],
      "collapsed_sections": [],
      "include_colab_link": true
    },
    "kernelspec": {
      "name": "python3",
      "display_name": "Python 3"
    },
    "language_info": {
      "name": "python"
    }
  },
  "cells": [
    {
      "cell_type": "markdown",
      "metadata": {
        "id": "view-in-github",
        "colab_type": "text"
      },
      "source": [
        "<a href=\"https://colab.research.google.com/github/yeonhas/bigdata/blob/main/BigData_2021.ipynb\" target=\"_parent\"><img src=\"https://colab.research.google.com/assets/colab-badge.svg\" alt=\"Open In Colab\"/></a>"
      ]
    },
    {
      "cell_type": "code",
      "execution_count": null,
      "metadata": {
        "colab": {
          "base_uri": "https://localhost:8080/"
        },
        "id": "ZyWua8MKlvB_",
        "outputId": "8180430c-04bd-4697-f1f3-16417152e870"
      },
      "outputs": [
        {
          "output_type": "stream",
          "name": "stdout",
          "text": [
            "Drive already mounted at /content/gdrive/; to attempt to forcibly remount, call drive.mount(\"/content/gdrive/\", force_remount=True).\n"
          ]
        }
      ],
      "source": [
        "#드라이브 연결\n",
        "from google.colab import drive\n",
        "drive.mount('/content/gdrive/')"
      ]
    },
    {
      "cell_type": "code",
      "source": [
        "import os\n",
        "print(\"before: %s\"%os.getcwd())\n",
        "os.chdir(\"/content/gdrive/My Drive/빅데이터/\")\n",
        "print(\"after: %s\"%os.getcwd())"
      ],
      "metadata": {
        "colab": {
          "base_uri": "https://localhost:8080/"
        },
        "id": "X661BkmYz3qQ",
        "outputId": "afbfb85f-0127-497e-86c8-42bcd929b880"
      },
      "execution_count": null,
      "outputs": [
        {
          "output_type": "stream",
          "name": "stdout",
          "text": [
            "before: /content\n",
            "after: /content/gdrive/My Drive/빅데이터\n"
          ]
        }
      ]
    },
    {
      "cell_type": "code",
      "source": [
        "#라이브러리 로딩\n",
        "import numpy as np\n",
        "import pandas as pd\n",
        "import matplotlib.pyplot as plt\n",
        "import seaborn as sns\n",
        "import warnings\n",
        "import matplotlib.font_manager as fm\n",
        "warnings.filterwarnings(action='ignore')"
      ],
      "metadata": {
        "id": "57N8gOpjz5MP"
      },
      "execution_count": null,
      "outputs": []
    },
    {
      "cell_type": "code",
      "source": [
        "#폰트설치\n",
        "!apt-get update -qq\n",
        "!apt-get install fonts-nanum* -qq\n",
        "path='/usr/share/fonts/truetype/nanum/NanumGothic.ttf'\n",
        "font_name = fm.FontProperties(fname=path, size=10).get_name()\n",
        "print(font_name)\n",
        "plt.rc('font', family=font_name)\n",
        "\n",
        "fm._rebuild()"
      ],
      "metadata": {
        "colab": {
          "base_uri": "https://localhost:8080/"
        },
        "id": "SIih1PWQz6ym",
        "outputId": "c14c659f-c34e-4f65-fac2-9f3fc8603727"
      },
      "execution_count": null,
      "outputs": [
        {
          "output_type": "stream",
          "name": "stdout",
          "text": [
            "NanumGothic\n"
          ]
        }
      ]
    },
    {
      "cell_type": "code",
      "source": [
        "df_car_cty = pd.read_csv('도심형화재발생현황(자동차_철도차량)_2021.csv')\n",
        "df_car_cty.head()"
      ],
      "metadata": {
        "id": "eL7T6tqB8Qc6",
        "colab": {
          "base_uri": "https://localhost:8080/",
          "height": 438
        },
        "outputId": "4ddcc347-2607-4369-f903-f9a7256e87be"
      },
      "execution_count": null,
      "outputs": [
        {
          "output_type": "execute_result",
          "data": {
            "text/plain": [
              "       wrinvstg_no fire_type_nm                trgtobj_nm  buld_srtfrm  \\\n",
              "0  210101124037891     자동차/철도차량  k5(277모3074, 2012년식,LPG)          NaN   \n",
              "1  210105094818358     자동차/철도차량        차량(대우25톤장축카고트럭) 화재          NaN   \n",
              "2  210106160925135     자동차/철도차량   프론티어 2.5톤 덤프트럭(95다7470)          NaN   \n",
              "3  210113002126762     자동차/철도차량                  에쿠스 차량화재          NaN   \n",
              "4  210118135555569     자동차/철도차량                 GM스파크(차량)          NaN   \n",
              "\n",
              "   buld_strctr  buld_srtrf  buld_strct_dong_cnt  ground_nof  bstory_cnt  \\\n",
              "0          NaN         NaN                  NaN         NaN         NaN   \n",
              "1          NaN         NaN                  NaN         NaN         NaN   \n",
              "2          NaN         NaN                  NaN         NaN         NaN   \n",
              "3          NaN         NaN                  NaN         NaN         NaN   \n",
              "4          NaN         NaN                  NaN         NaN         NaN   \n",
              "\n",
              "   totar  ...  vhcle_mnfctur_entrps  fld_fire_se  fld_fire_ign_bhf  \\\n",
              "0    NaN  ...                    기아          NaN               NaN   \n",
              "1    NaN  ...               타타대우상용차          NaN               NaN   \n",
              "2    NaN  ...                    기아          NaN               NaN   \n",
              "3    NaN  ...                    현대          NaN               NaN   \n",
              "4    NaN  ...                    대우          NaN               NaN   \n",
              "\n",
              "  time_unit_tmprt time_unit_rainqty time_unit_ws time_unit_wd  \\\n",
              "0            -1.9               NaN          1.1        140.0   \n",
              "1             2.9               NaN          1.5         90.0   \n",
              "2             0.0               NaN          2.1        250.0   \n",
              "3             1.7               NaN          1.8        160.0   \n",
              "4             5.7               NaN          7.4        290.0   \n",
              "\n",
              "   time_unit_humidity time_unit_msnf time_unit  \n",
              "0                69.0            1.9    2000.0  \n",
              "1                50.0            NaN    1981.0  \n",
              "2                45.0            NaN    4589.0  \n",
              "3                71.0            3.8    1192.0  \n",
              "4                48.0            1.6    1227.0  \n",
              "\n",
              "[5 rows x 88 columns]"
            ],
            "text/html": [
              "\n",
              "  <div id=\"df-5fbbb9bc-a396-4fe1-acfc-744d015c1a93\">\n",
              "    <div class=\"colab-df-container\">\n",
              "      <div>\n",
              "<style scoped>\n",
              "    .dataframe tbody tr th:only-of-type {\n",
              "        vertical-align: middle;\n",
              "    }\n",
              "\n",
              "    .dataframe tbody tr th {\n",
              "        vertical-align: top;\n",
              "    }\n",
              "\n",
              "    .dataframe thead th {\n",
              "        text-align: right;\n",
              "    }\n",
              "</style>\n",
              "<table border=\"1\" class=\"dataframe\">\n",
              "  <thead>\n",
              "    <tr style=\"text-align: right;\">\n",
              "      <th></th>\n",
              "      <th>wrinvstg_no</th>\n",
              "      <th>fire_type_nm</th>\n",
              "      <th>trgtobj_nm</th>\n",
              "      <th>buld_srtfrm</th>\n",
              "      <th>buld_strctr</th>\n",
              "      <th>buld_srtrf</th>\n",
              "      <th>buld_strct_dong_cnt</th>\n",
              "      <th>ground_nof</th>\n",
              "      <th>bstory_cnt</th>\n",
              "      <th>totar</th>\n",
              "      <th>...</th>\n",
              "      <th>vhcle_mnfctur_entrps</th>\n",
              "      <th>fld_fire_se</th>\n",
              "      <th>fld_fire_ign_bhf</th>\n",
              "      <th>time_unit_tmprt</th>\n",
              "      <th>time_unit_rainqty</th>\n",
              "      <th>time_unit_ws</th>\n",
              "      <th>time_unit_wd</th>\n",
              "      <th>time_unit_humidity</th>\n",
              "      <th>time_unit_msnf</th>\n",
              "      <th>time_unit</th>\n",
              "    </tr>\n",
              "  </thead>\n",
              "  <tbody>\n",
              "    <tr>\n",
              "      <th>0</th>\n",
              "      <td>210101124037891</td>\n",
              "      <td>자동차/철도차량</td>\n",
              "      <td>k5(277모3074, 2012년식,LPG)</td>\n",
              "      <td>NaN</td>\n",
              "      <td>NaN</td>\n",
              "      <td>NaN</td>\n",
              "      <td>NaN</td>\n",
              "      <td>NaN</td>\n",
              "      <td>NaN</td>\n",
              "      <td>NaN</td>\n",
              "      <td>...</td>\n",
              "      <td>기아</td>\n",
              "      <td>NaN</td>\n",
              "      <td>NaN</td>\n",
              "      <td>-1.9</td>\n",
              "      <td>NaN</td>\n",
              "      <td>1.1</td>\n",
              "      <td>140.0</td>\n",
              "      <td>69.0</td>\n",
              "      <td>1.9</td>\n",
              "      <td>2000.0</td>\n",
              "    </tr>\n",
              "    <tr>\n",
              "      <th>1</th>\n",
              "      <td>210105094818358</td>\n",
              "      <td>자동차/철도차량</td>\n",
              "      <td>차량(대우25톤장축카고트럭) 화재</td>\n",
              "      <td>NaN</td>\n",
              "      <td>NaN</td>\n",
              "      <td>NaN</td>\n",
              "      <td>NaN</td>\n",
              "      <td>NaN</td>\n",
              "      <td>NaN</td>\n",
              "      <td>NaN</td>\n",
              "      <td>...</td>\n",
              "      <td>타타대우상용차</td>\n",
              "      <td>NaN</td>\n",
              "      <td>NaN</td>\n",
              "      <td>2.9</td>\n",
              "      <td>NaN</td>\n",
              "      <td>1.5</td>\n",
              "      <td>90.0</td>\n",
              "      <td>50.0</td>\n",
              "      <td>NaN</td>\n",
              "      <td>1981.0</td>\n",
              "    </tr>\n",
              "    <tr>\n",
              "      <th>2</th>\n",
              "      <td>210106160925135</td>\n",
              "      <td>자동차/철도차량</td>\n",
              "      <td>프론티어 2.5톤 덤프트럭(95다7470)</td>\n",
              "      <td>NaN</td>\n",
              "      <td>NaN</td>\n",
              "      <td>NaN</td>\n",
              "      <td>NaN</td>\n",
              "      <td>NaN</td>\n",
              "      <td>NaN</td>\n",
              "      <td>NaN</td>\n",
              "      <td>...</td>\n",
              "      <td>기아</td>\n",
              "      <td>NaN</td>\n",
              "      <td>NaN</td>\n",
              "      <td>0.0</td>\n",
              "      <td>NaN</td>\n",
              "      <td>2.1</td>\n",
              "      <td>250.0</td>\n",
              "      <td>45.0</td>\n",
              "      <td>NaN</td>\n",
              "      <td>4589.0</td>\n",
              "    </tr>\n",
              "    <tr>\n",
              "      <th>3</th>\n",
              "      <td>210113002126762</td>\n",
              "      <td>자동차/철도차량</td>\n",
              "      <td>에쿠스 차량화재</td>\n",
              "      <td>NaN</td>\n",
              "      <td>NaN</td>\n",
              "      <td>NaN</td>\n",
              "      <td>NaN</td>\n",
              "      <td>NaN</td>\n",
              "      <td>NaN</td>\n",
              "      <td>NaN</td>\n",
              "      <td>...</td>\n",
              "      <td>현대</td>\n",
              "      <td>NaN</td>\n",
              "      <td>NaN</td>\n",
              "      <td>1.7</td>\n",
              "      <td>NaN</td>\n",
              "      <td>1.8</td>\n",
              "      <td>160.0</td>\n",
              "      <td>71.0</td>\n",
              "      <td>3.8</td>\n",
              "      <td>1192.0</td>\n",
              "    </tr>\n",
              "    <tr>\n",
              "      <th>4</th>\n",
              "      <td>210118135555569</td>\n",
              "      <td>자동차/철도차량</td>\n",
              "      <td>GM스파크(차량)</td>\n",
              "      <td>NaN</td>\n",
              "      <td>NaN</td>\n",
              "      <td>NaN</td>\n",
              "      <td>NaN</td>\n",
              "      <td>NaN</td>\n",
              "      <td>NaN</td>\n",
              "      <td>NaN</td>\n",
              "      <td>...</td>\n",
              "      <td>대우</td>\n",
              "      <td>NaN</td>\n",
              "      <td>NaN</td>\n",
              "      <td>5.7</td>\n",
              "      <td>NaN</td>\n",
              "      <td>7.4</td>\n",
              "      <td>290.0</td>\n",
              "      <td>48.0</td>\n",
              "      <td>1.6</td>\n",
              "      <td>1227.0</td>\n",
              "    </tr>\n",
              "  </tbody>\n",
              "</table>\n",
              "<p>5 rows × 88 columns</p>\n",
              "</div>\n",
              "      <button class=\"colab-df-convert\" onclick=\"convertToInteractive('df-5fbbb9bc-a396-4fe1-acfc-744d015c1a93')\"\n",
              "              title=\"Convert this dataframe to an interactive table.\"\n",
              "              style=\"display:none;\">\n",
              "        \n",
              "  <svg xmlns=\"http://www.w3.org/2000/svg\" height=\"24px\"viewBox=\"0 0 24 24\"\n",
              "       width=\"24px\">\n",
              "    <path d=\"M0 0h24v24H0V0z\" fill=\"none\"/>\n",
              "    <path d=\"M18.56 5.44l.94 2.06.94-2.06 2.06-.94-2.06-.94-.94-2.06-.94 2.06-2.06.94zm-11 1L8.5 8.5l.94-2.06 2.06-.94-2.06-.94L8.5 2.5l-.94 2.06-2.06.94zm10 10l.94 2.06.94-2.06 2.06-.94-2.06-.94-.94-2.06-.94 2.06-2.06.94z\"/><path d=\"M17.41 7.96l-1.37-1.37c-.4-.4-.92-.59-1.43-.59-.52 0-1.04.2-1.43.59L10.3 9.45l-7.72 7.72c-.78.78-.78 2.05 0 2.83L4 21.41c.39.39.9.59 1.41.59.51 0 1.02-.2 1.41-.59l7.78-7.78 2.81-2.81c.8-.78.8-2.07 0-2.86zM5.41 20L4 18.59l7.72-7.72 1.47 1.35L5.41 20z\"/>\n",
              "  </svg>\n",
              "      </button>\n",
              "      \n",
              "  <style>\n",
              "    .colab-df-container {\n",
              "      display:flex;\n",
              "      flex-wrap:wrap;\n",
              "      gap: 12px;\n",
              "    }\n",
              "\n",
              "    .colab-df-convert {\n",
              "      background-color: #E8F0FE;\n",
              "      border: none;\n",
              "      border-radius: 50%;\n",
              "      cursor: pointer;\n",
              "      display: none;\n",
              "      fill: #1967D2;\n",
              "      height: 32px;\n",
              "      padding: 0 0 0 0;\n",
              "      width: 32px;\n",
              "    }\n",
              "\n",
              "    .colab-df-convert:hover {\n",
              "      background-color: #E2EBFA;\n",
              "      box-shadow: 0px 1px 2px rgba(60, 64, 67, 0.3), 0px 1px 3px 1px rgba(60, 64, 67, 0.15);\n",
              "      fill: #174EA6;\n",
              "    }\n",
              "\n",
              "    [theme=dark] .colab-df-convert {\n",
              "      background-color: #3B4455;\n",
              "      fill: #D2E3FC;\n",
              "    }\n",
              "\n",
              "    [theme=dark] .colab-df-convert:hover {\n",
              "      background-color: #434B5C;\n",
              "      box-shadow: 0px 1px 3px 1px rgba(0, 0, 0, 0.15);\n",
              "      filter: drop-shadow(0px 1px 2px rgba(0, 0, 0, 0.3));\n",
              "      fill: #FFFFFF;\n",
              "    }\n",
              "  </style>\n",
              "\n",
              "      <script>\n",
              "        const buttonEl =\n",
              "          document.querySelector('#df-5fbbb9bc-a396-4fe1-acfc-744d015c1a93 button.colab-df-convert');\n",
              "        buttonEl.style.display =\n",
              "          google.colab.kernel.accessAllowed ? 'block' : 'none';\n",
              "\n",
              "        async function convertToInteractive(key) {\n",
              "          const element = document.querySelector('#df-5fbbb9bc-a396-4fe1-acfc-744d015c1a93');\n",
              "          const dataTable =\n",
              "            await google.colab.kernel.invokeFunction('convertToInteractive',\n",
              "                                                     [key], {});\n",
              "          if (!dataTable) return;\n",
              "\n",
              "          const docLinkHtml = 'Like what you see? Visit the ' +\n",
              "            '<a target=\"_blank\" href=https://colab.research.google.com/notebooks/data_table.ipynb>data table notebook</a>'\n",
              "            + ' to learn more about interactive tables.';\n",
              "          element.innerHTML = '';\n",
              "          dataTable['output_type'] = 'display_data';\n",
              "          await google.colab.output.renderOutput(dataTable, element);\n",
              "          const docLink = document.createElement('div');\n",
              "          docLink.innerHTML = docLinkHtml;\n",
              "          element.appendChild(docLink);\n",
              "        }\n",
              "      </script>\n",
              "    </div>\n",
              "  </div>\n",
              "  "
            ]
          },
          "metadata": {},
          "execution_count": 5
        }
      ]
    },
    {
      "cell_type": "code",
      "source": [
        "df_car_frm=pd.read_csv('농촌형화재발생현황(자동차_철도차량_2021.csv')\n",
        "df_car_frm.head()"
      ],
      "metadata": {
        "id": "hDF832-w_kBM",
        "colab": {
          "base_uri": "https://localhost:8080/",
          "height": 386
        },
        "outputId": "24f621dc-1beb-468c-86bf-cacd85b4bd58"
      },
      "execution_count": null,
      "outputs": [
        {
          "output_type": "execute_result",
          "data": {
            "text/plain": [
              "       wrinvstg_no fire_type_nm      trgtobj_nm  buld_srtfrm  buld_strctr  \\\n",
              "0  210104123633254     자동차/철도차량     벤츠(47저8375)          NaN          NaN   \n",
              "1  210106141043260     자동차/철도차량     현대슈퍼트럭(25톤)          NaN          NaN   \n",
              "2  210108140323663     자동차/철도차량     대우25톤장축카고트럭          NaN          NaN   \n",
              "3  210109015403097     자동차/철도차량  대우 11.5톤 카고 트럭          NaN          NaN   \n",
              "4  210112202132262     자동차/철도차량    차량(현대/그랜저TG)          NaN          NaN   \n",
              "\n",
              "   buld_srtrf  buld_strct_dong_cnt  ground_nof  bstory_cnt  totar  ...  \\\n",
              "0         NaN                  NaN         NaN         NaN    NaN  ...   \n",
              "1         NaN                  NaN         NaN         NaN    NaN  ...   \n",
              "2         NaN                  NaN         NaN         NaN    NaN  ...   \n",
              "3         NaN                  NaN         NaN         NaN    NaN  ...   \n",
              "4         NaN                  NaN         NaN         NaN    NaN  ...   \n",
              "\n",
              "   vhcle_mnfctur_entrps  fld_fire_se  fld_fire_ign_bhf time_unit_tmprt  \\\n",
              "0                    벤츠          NaN               NaN            -3.7   \n",
              "1                    현대          NaN               NaN            -3.9   \n",
              "2               타타대우상용차          NaN               NaN           -14.9   \n",
              "3               타타대우상용차          NaN               NaN           -17.1   \n",
              "4                    현대          NaN               NaN             0.5   \n",
              "\n",
              "  time_unit_rainqty time_unit_ws time_unit_wd  time_unit_humidity  \\\n",
              "0               NaN          0.8         50.0                69.0   \n",
              "1               NaN          1.6        360.0                61.0   \n",
              "2               NaN          0.7        180.0                69.0   \n",
              "3               NaN          0.2          0.0                84.0   \n",
              "4               NaN          2.1        180.0                94.0   \n",
              "\n",
              "  time_unit_msnf time_unit  \n",
              "0            NaN    1628.0  \n",
              "1            NaN    2000.0  \n",
              "2            3.9    1592.0  \n",
              "3            3.5    1925.0  \n",
              "4           10.3     533.0  \n",
              "\n",
              "[5 rows x 88 columns]"
            ],
            "text/html": [
              "\n",
              "  <div id=\"df-7abd2dff-f106-489d-a768-007d6fbd764c\">\n",
              "    <div class=\"colab-df-container\">\n",
              "      <div>\n",
              "<style scoped>\n",
              "    .dataframe tbody tr th:only-of-type {\n",
              "        vertical-align: middle;\n",
              "    }\n",
              "\n",
              "    .dataframe tbody tr th {\n",
              "        vertical-align: top;\n",
              "    }\n",
              "\n",
              "    .dataframe thead th {\n",
              "        text-align: right;\n",
              "    }\n",
              "</style>\n",
              "<table border=\"1\" class=\"dataframe\">\n",
              "  <thead>\n",
              "    <tr style=\"text-align: right;\">\n",
              "      <th></th>\n",
              "      <th>wrinvstg_no</th>\n",
              "      <th>fire_type_nm</th>\n",
              "      <th>trgtobj_nm</th>\n",
              "      <th>buld_srtfrm</th>\n",
              "      <th>buld_strctr</th>\n",
              "      <th>buld_srtrf</th>\n",
              "      <th>buld_strct_dong_cnt</th>\n",
              "      <th>ground_nof</th>\n",
              "      <th>bstory_cnt</th>\n",
              "      <th>totar</th>\n",
              "      <th>...</th>\n",
              "      <th>vhcle_mnfctur_entrps</th>\n",
              "      <th>fld_fire_se</th>\n",
              "      <th>fld_fire_ign_bhf</th>\n",
              "      <th>time_unit_tmprt</th>\n",
              "      <th>time_unit_rainqty</th>\n",
              "      <th>time_unit_ws</th>\n",
              "      <th>time_unit_wd</th>\n",
              "      <th>time_unit_humidity</th>\n",
              "      <th>time_unit_msnf</th>\n",
              "      <th>time_unit</th>\n",
              "    </tr>\n",
              "  </thead>\n",
              "  <tbody>\n",
              "    <tr>\n",
              "      <th>0</th>\n",
              "      <td>210104123633254</td>\n",
              "      <td>자동차/철도차량</td>\n",
              "      <td>벤츠(47저8375)</td>\n",
              "      <td>NaN</td>\n",
              "      <td>NaN</td>\n",
              "      <td>NaN</td>\n",
              "      <td>NaN</td>\n",
              "      <td>NaN</td>\n",
              "      <td>NaN</td>\n",
              "      <td>NaN</td>\n",
              "      <td>...</td>\n",
              "      <td>벤츠</td>\n",
              "      <td>NaN</td>\n",
              "      <td>NaN</td>\n",
              "      <td>-3.7</td>\n",
              "      <td>NaN</td>\n",
              "      <td>0.8</td>\n",
              "      <td>50.0</td>\n",
              "      <td>69.0</td>\n",
              "      <td>NaN</td>\n",
              "      <td>1628.0</td>\n",
              "    </tr>\n",
              "    <tr>\n",
              "      <th>1</th>\n",
              "      <td>210106141043260</td>\n",
              "      <td>자동차/철도차량</td>\n",
              "      <td>현대슈퍼트럭(25톤)</td>\n",
              "      <td>NaN</td>\n",
              "      <td>NaN</td>\n",
              "      <td>NaN</td>\n",
              "      <td>NaN</td>\n",
              "      <td>NaN</td>\n",
              "      <td>NaN</td>\n",
              "      <td>NaN</td>\n",
              "      <td>...</td>\n",
              "      <td>현대</td>\n",
              "      <td>NaN</td>\n",
              "      <td>NaN</td>\n",
              "      <td>-3.9</td>\n",
              "      <td>NaN</td>\n",
              "      <td>1.6</td>\n",
              "      <td>360.0</td>\n",
              "      <td>61.0</td>\n",
              "      <td>NaN</td>\n",
              "      <td>2000.0</td>\n",
              "    </tr>\n",
              "    <tr>\n",
              "      <th>2</th>\n",
              "      <td>210108140323663</td>\n",
              "      <td>자동차/철도차량</td>\n",
              "      <td>대우25톤장축카고트럭</td>\n",
              "      <td>NaN</td>\n",
              "      <td>NaN</td>\n",
              "      <td>NaN</td>\n",
              "      <td>NaN</td>\n",
              "      <td>NaN</td>\n",
              "      <td>NaN</td>\n",
              "      <td>NaN</td>\n",
              "      <td>...</td>\n",
              "      <td>타타대우상용차</td>\n",
              "      <td>NaN</td>\n",
              "      <td>NaN</td>\n",
              "      <td>-14.9</td>\n",
              "      <td>NaN</td>\n",
              "      <td>0.7</td>\n",
              "      <td>180.0</td>\n",
              "      <td>69.0</td>\n",
              "      <td>3.9</td>\n",
              "      <td>1592.0</td>\n",
              "    </tr>\n",
              "    <tr>\n",
              "      <th>3</th>\n",
              "      <td>210109015403097</td>\n",
              "      <td>자동차/철도차량</td>\n",
              "      <td>대우 11.5톤 카고 트럭</td>\n",
              "      <td>NaN</td>\n",
              "      <td>NaN</td>\n",
              "      <td>NaN</td>\n",
              "      <td>NaN</td>\n",
              "      <td>NaN</td>\n",
              "      <td>NaN</td>\n",
              "      <td>NaN</td>\n",
              "      <td>...</td>\n",
              "      <td>타타대우상용차</td>\n",
              "      <td>NaN</td>\n",
              "      <td>NaN</td>\n",
              "      <td>-17.1</td>\n",
              "      <td>NaN</td>\n",
              "      <td>0.2</td>\n",
              "      <td>0.0</td>\n",
              "      <td>84.0</td>\n",
              "      <td>3.5</td>\n",
              "      <td>1925.0</td>\n",
              "    </tr>\n",
              "    <tr>\n",
              "      <th>4</th>\n",
              "      <td>210112202132262</td>\n",
              "      <td>자동차/철도차량</td>\n",
              "      <td>차량(현대/그랜저TG)</td>\n",
              "      <td>NaN</td>\n",
              "      <td>NaN</td>\n",
              "      <td>NaN</td>\n",
              "      <td>NaN</td>\n",
              "      <td>NaN</td>\n",
              "      <td>NaN</td>\n",
              "      <td>NaN</td>\n",
              "      <td>...</td>\n",
              "      <td>현대</td>\n",
              "      <td>NaN</td>\n",
              "      <td>NaN</td>\n",
              "      <td>0.5</td>\n",
              "      <td>NaN</td>\n",
              "      <td>2.1</td>\n",
              "      <td>180.0</td>\n",
              "      <td>94.0</td>\n",
              "      <td>10.3</td>\n",
              "      <td>533.0</td>\n",
              "    </tr>\n",
              "  </tbody>\n",
              "</table>\n",
              "<p>5 rows × 88 columns</p>\n",
              "</div>\n",
              "      <button class=\"colab-df-convert\" onclick=\"convertToInteractive('df-7abd2dff-f106-489d-a768-007d6fbd764c')\"\n",
              "              title=\"Convert this dataframe to an interactive table.\"\n",
              "              style=\"display:none;\">\n",
              "        \n",
              "  <svg xmlns=\"http://www.w3.org/2000/svg\" height=\"24px\"viewBox=\"0 0 24 24\"\n",
              "       width=\"24px\">\n",
              "    <path d=\"M0 0h24v24H0V0z\" fill=\"none\"/>\n",
              "    <path d=\"M18.56 5.44l.94 2.06.94-2.06 2.06-.94-2.06-.94-.94-2.06-.94 2.06-2.06.94zm-11 1L8.5 8.5l.94-2.06 2.06-.94-2.06-.94L8.5 2.5l-.94 2.06-2.06.94zm10 10l.94 2.06.94-2.06 2.06-.94-2.06-.94-.94-2.06-.94 2.06-2.06.94z\"/><path d=\"M17.41 7.96l-1.37-1.37c-.4-.4-.92-.59-1.43-.59-.52 0-1.04.2-1.43.59L10.3 9.45l-7.72 7.72c-.78.78-.78 2.05 0 2.83L4 21.41c.39.39.9.59 1.41.59.51 0 1.02-.2 1.41-.59l7.78-7.78 2.81-2.81c.8-.78.8-2.07 0-2.86zM5.41 20L4 18.59l7.72-7.72 1.47 1.35L5.41 20z\"/>\n",
              "  </svg>\n",
              "      </button>\n",
              "      \n",
              "  <style>\n",
              "    .colab-df-container {\n",
              "      display:flex;\n",
              "      flex-wrap:wrap;\n",
              "      gap: 12px;\n",
              "    }\n",
              "\n",
              "    .colab-df-convert {\n",
              "      background-color: #E8F0FE;\n",
              "      border: none;\n",
              "      border-radius: 50%;\n",
              "      cursor: pointer;\n",
              "      display: none;\n",
              "      fill: #1967D2;\n",
              "      height: 32px;\n",
              "      padding: 0 0 0 0;\n",
              "      width: 32px;\n",
              "    }\n",
              "\n",
              "    .colab-df-convert:hover {\n",
              "      background-color: #E2EBFA;\n",
              "      box-shadow: 0px 1px 2px rgba(60, 64, 67, 0.3), 0px 1px 3px 1px rgba(60, 64, 67, 0.15);\n",
              "      fill: #174EA6;\n",
              "    }\n",
              "\n",
              "    [theme=dark] .colab-df-convert {\n",
              "      background-color: #3B4455;\n",
              "      fill: #D2E3FC;\n",
              "    }\n",
              "\n",
              "    [theme=dark] .colab-df-convert:hover {\n",
              "      background-color: #434B5C;\n",
              "      box-shadow: 0px 1px 3px 1px rgba(0, 0, 0, 0.15);\n",
              "      filter: drop-shadow(0px 1px 2px rgba(0, 0, 0, 0.3));\n",
              "      fill: #FFFFFF;\n",
              "    }\n",
              "  </style>\n",
              "\n",
              "      <script>\n",
              "        const buttonEl =\n",
              "          document.querySelector('#df-7abd2dff-f106-489d-a768-007d6fbd764c button.colab-df-convert');\n",
              "        buttonEl.style.display =\n",
              "          google.colab.kernel.accessAllowed ? 'block' : 'none';\n",
              "\n",
              "        async function convertToInteractive(key) {\n",
              "          const element = document.querySelector('#df-7abd2dff-f106-489d-a768-007d6fbd764c');\n",
              "          const dataTable =\n",
              "            await google.colab.kernel.invokeFunction('convertToInteractive',\n",
              "                                                     [key], {});\n",
              "          if (!dataTable) return;\n",
              "\n",
              "          const docLinkHtml = 'Like what you see? Visit the ' +\n",
              "            '<a target=\"_blank\" href=https://colab.research.google.com/notebooks/data_table.ipynb>data table notebook</a>'\n",
              "            + ' to learn more about interactive tables.';\n",
              "          element.innerHTML = '';\n",
              "          dataTable['output_type'] = 'display_data';\n",
              "          await google.colab.output.renderOutput(dataTable, element);\n",
              "          const docLink = document.createElement('div');\n",
              "          docLink.innerHTML = docLinkHtml;\n",
              "          element.appendChild(docLink);\n",
              "        }\n",
              "      </script>\n",
              "    </div>\n",
              "  </div>\n",
              "  "
            ]
          },
          "metadata": {},
          "execution_count": 6
        }
      ]
    },
    {
      "cell_type": "markdown",
      "source": [
        "###도시형 데이터와 농촌형 데이터 융합\n",
        "\n",
        "1.   데이터 융합 : concat\n",
        "2.   데이터 전처리(df[['column_name']])\n",
        "\n"
      ],
      "metadata": {
        "id": "VvsXQ1B0Czih"
      }
    },
    {
      "cell_type": "code",
      "source": [
        "df = pd.concat([df_car_cty, df_car_frm])"
      ],
      "metadata": {
        "id": "vIFJd6g0_y8l"
      },
      "execution_count": null,
      "outputs": []
    },
    {
      "cell_type": "code",
      "source": [
        "df_car = df[['wrinvstg_no', 'fire_type_nm', 'trgtobj_nm', 'fire_ocrn_yr', 'season_se_nm', 'fire_ocrn_ymd', 'fire_ocrn_mnth', 'dsp_reqre_time','sido_nm', 'sigungu_nm', 'emd_nm', 'cty_frmvl_se_nm', 'ign_htsrc_sclas_nm', 'ign_fctr_lclas_nm', 'eco_vhcle_cl_nm', 'vhcle_place', 'vhcle_ign_bhf', 'time_unit_tmprt', 'time_unit_rainqty', 'time_unit_humidity' ]]"
      ],
      "metadata": {
        "id": "EixKbzMQBix9"
      },
      "execution_count": null,
      "outputs": []
    },
    {
      "cell_type": "code",
      "source": [
        "df_car.head()"
      ],
      "metadata": {
        "colab": {
          "base_uri": "https://localhost:8080/",
          "height": 409
        },
        "id": "uPjwurXw_5rr",
        "outputId": "9f68219c-a350-4192-8c05-20798ec1b3c9"
      },
      "execution_count": null,
      "outputs": [
        {
          "output_type": "execute_result",
          "data": {
            "text/plain": [
              "       wrinvstg_no fire_type_nm                trgtobj_nm  fire_ocrn_yr  \\\n",
              "0  210101124037891     자동차/철도차량  k5(277모3074, 2012년식,LPG)          2021   \n",
              "1  210105094818358     자동차/철도차량        차량(대우25톤장축카고트럭) 화재          2021   \n",
              "2  210106160925135     자동차/철도차량   프론티어 2.5톤 덤프트럭(95다7470)          2021   \n",
              "3  210113002126762     자동차/철도차량                  에쿠스 차량화재          2021   \n",
              "4  210118135555569     자동차/철도차량                 GM스파크(차량)          2021   \n",
              "\n",
              "  season_se_nm  fire_ocrn_ymd  fire_ocrn_mnth  dsp_reqre_time sido_nm  \\\n",
              "0           겨울       20210101               1             800    전라북도   \n",
              "1           겨울       20210104               1             546    전라북도   \n",
              "2           겨울       20210106               1             439    전라북도   \n",
              "3           겨울       20210112               1             240    전라북도   \n",
              "4           겨울       20210118               1             248    전라북도   \n",
              "\n",
              "  sigungu_nm emd_nm cty_frmvl_se_nm ign_htsrc_sclas_nm ign_fctr_lclas_nm  \\\n",
              "0    전주시 덕진구     중동              도시         마찰열/마찰 스파크              교통사고   \n",
              "1        군산시    산북동              도시         마찰열/마찰 스파크            기계적 요인   \n",
              "2        남원시    화정동              도시         전기적 아크(단락)            전기적 요인   \n",
              "3    전주시 완산구  평화동2가              도시          기기 전도/복사열            기계적 요인   \n",
              "4        군산시    수송동              도시       불꽃/ 스파크/ 정전기            전기적 요인   \n",
              "\n",
              "   eco_vhcle_cl_nm vhcle_place vhcle_ign_bhf  time_unit_tmprt  \\\n",
              "0              NaN        일반도로           엔진룸             -1.9   \n",
              "1              NaN        일반도로            바퀴              2.9   \n",
              "2              NaN          공지           앞좌석              0.0   \n",
              "3              NaN         주차장           엔진룸              1.7   \n",
              "4              NaN        일반도로           엔진룸              5.7   \n",
              "\n",
              "   time_unit_rainqty  time_unit_humidity  \n",
              "0                NaN                69.0  \n",
              "1                NaN                50.0  \n",
              "2                NaN                45.0  \n",
              "3                NaN                71.0  \n",
              "4                NaN                48.0  "
            ],
            "text/html": [
              "\n",
              "  <div id=\"df-07a5c472-2999-4f14-afd9-fcee5ff4c317\">\n",
              "    <div class=\"colab-df-container\">\n",
              "      <div>\n",
              "<style scoped>\n",
              "    .dataframe tbody tr th:only-of-type {\n",
              "        vertical-align: middle;\n",
              "    }\n",
              "\n",
              "    .dataframe tbody tr th {\n",
              "        vertical-align: top;\n",
              "    }\n",
              "\n",
              "    .dataframe thead th {\n",
              "        text-align: right;\n",
              "    }\n",
              "</style>\n",
              "<table border=\"1\" class=\"dataframe\">\n",
              "  <thead>\n",
              "    <tr style=\"text-align: right;\">\n",
              "      <th></th>\n",
              "      <th>wrinvstg_no</th>\n",
              "      <th>fire_type_nm</th>\n",
              "      <th>trgtobj_nm</th>\n",
              "      <th>fire_ocrn_yr</th>\n",
              "      <th>season_se_nm</th>\n",
              "      <th>fire_ocrn_ymd</th>\n",
              "      <th>fire_ocrn_mnth</th>\n",
              "      <th>dsp_reqre_time</th>\n",
              "      <th>sido_nm</th>\n",
              "      <th>sigungu_nm</th>\n",
              "      <th>emd_nm</th>\n",
              "      <th>cty_frmvl_se_nm</th>\n",
              "      <th>ign_htsrc_sclas_nm</th>\n",
              "      <th>ign_fctr_lclas_nm</th>\n",
              "      <th>eco_vhcle_cl_nm</th>\n",
              "      <th>vhcle_place</th>\n",
              "      <th>vhcle_ign_bhf</th>\n",
              "      <th>time_unit_tmprt</th>\n",
              "      <th>time_unit_rainqty</th>\n",
              "      <th>time_unit_humidity</th>\n",
              "    </tr>\n",
              "  </thead>\n",
              "  <tbody>\n",
              "    <tr>\n",
              "      <th>0</th>\n",
              "      <td>210101124037891</td>\n",
              "      <td>자동차/철도차량</td>\n",
              "      <td>k5(277모3074, 2012년식,LPG)</td>\n",
              "      <td>2021</td>\n",
              "      <td>겨울</td>\n",
              "      <td>20210101</td>\n",
              "      <td>1</td>\n",
              "      <td>800</td>\n",
              "      <td>전라북도</td>\n",
              "      <td>전주시 덕진구</td>\n",
              "      <td>중동</td>\n",
              "      <td>도시</td>\n",
              "      <td>마찰열/마찰 스파크</td>\n",
              "      <td>교통사고</td>\n",
              "      <td>NaN</td>\n",
              "      <td>일반도로</td>\n",
              "      <td>엔진룸</td>\n",
              "      <td>-1.9</td>\n",
              "      <td>NaN</td>\n",
              "      <td>69.0</td>\n",
              "    </tr>\n",
              "    <tr>\n",
              "      <th>1</th>\n",
              "      <td>210105094818358</td>\n",
              "      <td>자동차/철도차량</td>\n",
              "      <td>차량(대우25톤장축카고트럭) 화재</td>\n",
              "      <td>2021</td>\n",
              "      <td>겨울</td>\n",
              "      <td>20210104</td>\n",
              "      <td>1</td>\n",
              "      <td>546</td>\n",
              "      <td>전라북도</td>\n",
              "      <td>군산시</td>\n",
              "      <td>산북동</td>\n",
              "      <td>도시</td>\n",
              "      <td>마찰열/마찰 스파크</td>\n",
              "      <td>기계적 요인</td>\n",
              "      <td>NaN</td>\n",
              "      <td>일반도로</td>\n",
              "      <td>바퀴</td>\n",
              "      <td>2.9</td>\n",
              "      <td>NaN</td>\n",
              "      <td>50.0</td>\n",
              "    </tr>\n",
              "    <tr>\n",
              "      <th>2</th>\n",
              "      <td>210106160925135</td>\n",
              "      <td>자동차/철도차량</td>\n",
              "      <td>프론티어 2.5톤 덤프트럭(95다7470)</td>\n",
              "      <td>2021</td>\n",
              "      <td>겨울</td>\n",
              "      <td>20210106</td>\n",
              "      <td>1</td>\n",
              "      <td>439</td>\n",
              "      <td>전라북도</td>\n",
              "      <td>남원시</td>\n",
              "      <td>화정동</td>\n",
              "      <td>도시</td>\n",
              "      <td>전기적 아크(단락)</td>\n",
              "      <td>전기적 요인</td>\n",
              "      <td>NaN</td>\n",
              "      <td>공지</td>\n",
              "      <td>앞좌석</td>\n",
              "      <td>0.0</td>\n",
              "      <td>NaN</td>\n",
              "      <td>45.0</td>\n",
              "    </tr>\n",
              "    <tr>\n",
              "      <th>3</th>\n",
              "      <td>210113002126762</td>\n",
              "      <td>자동차/철도차량</td>\n",
              "      <td>에쿠스 차량화재</td>\n",
              "      <td>2021</td>\n",
              "      <td>겨울</td>\n",
              "      <td>20210112</td>\n",
              "      <td>1</td>\n",
              "      <td>240</td>\n",
              "      <td>전라북도</td>\n",
              "      <td>전주시 완산구</td>\n",
              "      <td>평화동2가</td>\n",
              "      <td>도시</td>\n",
              "      <td>기기 전도/복사열</td>\n",
              "      <td>기계적 요인</td>\n",
              "      <td>NaN</td>\n",
              "      <td>주차장</td>\n",
              "      <td>엔진룸</td>\n",
              "      <td>1.7</td>\n",
              "      <td>NaN</td>\n",
              "      <td>71.0</td>\n",
              "    </tr>\n",
              "    <tr>\n",
              "      <th>4</th>\n",
              "      <td>210118135555569</td>\n",
              "      <td>자동차/철도차량</td>\n",
              "      <td>GM스파크(차량)</td>\n",
              "      <td>2021</td>\n",
              "      <td>겨울</td>\n",
              "      <td>20210118</td>\n",
              "      <td>1</td>\n",
              "      <td>248</td>\n",
              "      <td>전라북도</td>\n",
              "      <td>군산시</td>\n",
              "      <td>수송동</td>\n",
              "      <td>도시</td>\n",
              "      <td>불꽃/ 스파크/ 정전기</td>\n",
              "      <td>전기적 요인</td>\n",
              "      <td>NaN</td>\n",
              "      <td>일반도로</td>\n",
              "      <td>엔진룸</td>\n",
              "      <td>5.7</td>\n",
              "      <td>NaN</td>\n",
              "      <td>48.0</td>\n",
              "    </tr>\n",
              "  </tbody>\n",
              "</table>\n",
              "</div>\n",
              "      <button class=\"colab-df-convert\" onclick=\"convertToInteractive('df-07a5c472-2999-4f14-afd9-fcee5ff4c317')\"\n",
              "              title=\"Convert this dataframe to an interactive table.\"\n",
              "              style=\"display:none;\">\n",
              "        \n",
              "  <svg xmlns=\"http://www.w3.org/2000/svg\" height=\"24px\"viewBox=\"0 0 24 24\"\n",
              "       width=\"24px\">\n",
              "    <path d=\"M0 0h24v24H0V0z\" fill=\"none\"/>\n",
              "    <path d=\"M18.56 5.44l.94 2.06.94-2.06 2.06-.94-2.06-.94-.94-2.06-.94 2.06-2.06.94zm-11 1L8.5 8.5l.94-2.06 2.06-.94-2.06-.94L8.5 2.5l-.94 2.06-2.06.94zm10 10l.94 2.06.94-2.06 2.06-.94-2.06-.94-.94-2.06-.94 2.06-2.06.94z\"/><path d=\"M17.41 7.96l-1.37-1.37c-.4-.4-.92-.59-1.43-.59-.52 0-1.04.2-1.43.59L10.3 9.45l-7.72 7.72c-.78.78-.78 2.05 0 2.83L4 21.41c.39.39.9.59 1.41.59.51 0 1.02-.2 1.41-.59l7.78-7.78 2.81-2.81c.8-.78.8-2.07 0-2.86zM5.41 20L4 18.59l7.72-7.72 1.47 1.35L5.41 20z\"/>\n",
              "  </svg>\n",
              "      </button>\n",
              "      \n",
              "  <style>\n",
              "    .colab-df-container {\n",
              "      display:flex;\n",
              "      flex-wrap:wrap;\n",
              "      gap: 12px;\n",
              "    }\n",
              "\n",
              "    .colab-df-convert {\n",
              "      background-color: #E8F0FE;\n",
              "      border: none;\n",
              "      border-radius: 50%;\n",
              "      cursor: pointer;\n",
              "      display: none;\n",
              "      fill: #1967D2;\n",
              "      height: 32px;\n",
              "      padding: 0 0 0 0;\n",
              "      width: 32px;\n",
              "    }\n",
              "\n",
              "    .colab-df-convert:hover {\n",
              "      background-color: #E2EBFA;\n",
              "      box-shadow: 0px 1px 2px rgba(60, 64, 67, 0.3), 0px 1px 3px 1px rgba(60, 64, 67, 0.15);\n",
              "      fill: #174EA6;\n",
              "    }\n",
              "\n",
              "    [theme=dark] .colab-df-convert {\n",
              "      background-color: #3B4455;\n",
              "      fill: #D2E3FC;\n",
              "    }\n",
              "\n",
              "    [theme=dark] .colab-df-convert:hover {\n",
              "      background-color: #434B5C;\n",
              "      box-shadow: 0px 1px 3px 1px rgba(0, 0, 0, 0.15);\n",
              "      filter: drop-shadow(0px 1px 2px rgba(0, 0, 0, 0.3));\n",
              "      fill: #FFFFFF;\n",
              "    }\n",
              "  </style>\n",
              "\n",
              "      <script>\n",
              "        const buttonEl =\n",
              "          document.querySelector('#df-07a5c472-2999-4f14-afd9-fcee5ff4c317 button.colab-df-convert');\n",
              "        buttonEl.style.display =\n",
              "          google.colab.kernel.accessAllowed ? 'block' : 'none';\n",
              "\n",
              "        async function convertToInteractive(key) {\n",
              "          const element = document.querySelector('#df-07a5c472-2999-4f14-afd9-fcee5ff4c317');\n",
              "          const dataTable =\n",
              "            await google.colab.kernel.invokeFunction('convertToInteractive',\n",
              "                                                     [key], {});\n",
              "          if (!dataTable) return;\n",
              "\n",
              "          const docLinkHtml = 'Like what you see? Visit the ' +\n",
              "            '<a target=\"_blank\" href=https://colab.research.google.com/notebooks/data_table.ipynb>data table notebook</a>'\n",
              "            + ' to learn more about interactive tables.';\n",
              "          element.innerHTML = '';\n",
              "          dataTable['output_type'] = 'display_data';\n",
              "          await google.colab.output.renderOutput(dataTable, element);\n",
              "          const docLink = document.createElement('div');\n",
              "          docLink.innerHTML = docLinkHtml;\n",
              "          element.appendChild(docLink);\n",
              "        }\n",
              "      </script>\n",
              "    </div>\n",
              "  </div>\n",
              "  "
            ]
          },
          "metadata": {},
          "execution_count": 9
        }
      ]
    },
    {
      "cell_type": "markdown",
      "source": [
        "###columns값을 한글로 변경"
      ],
      "metadata": {
        "id": "mbOKSiDVC4hp"
      }
    },
    {
      "cell_type": "code",
      "source": [
        "df_car.columns =  [ '조사서번호', '화재유형명', '대상물명', \n",
        "\t'화재발생연도', '계절구분명', '화재발생일자', \n",
        "    '화재발생월', '출동소요시간', '시도명', '시군구명', '읍면동명',\n",
        "    '도시농촌구분명', '발화열원명', '발화요인대분류명', \n",
        "    '친환경차량분류명', '차량장소', '차량발화지점', \n",
        "    '시간단위기온', '시간단위강수량', '시간단위습도' ]"
      ],
      "metadata": {
        "id": "HKnQQN71Dkp-"
      },
      "execution_count": null,
      "outputs": []
    },
    {
      "cell_type": "code",
      "source": [
        "df_car.head()"
      ],
      "metadata": {
        "colab": {
          "base_uri": "https://localhost:8080/",
          "height": 354
        },
        "id": "rMbjlpRkDtcZ",
        "outputId": "91afe9cc-7285-47bf-f34f-ef5397cab993"
      },
      "execution_count": null,
      "outputs": [
        {
          "output_type": "execute_result",
          "data": {
            "text/plain": [
              "             조사서번호     화재유형명                      대상물명  화재발생연도 계절구분명  \\\n",
              "0  210101124037891  자동차/철도차량  k5(277모3074, 2012년식,LPG)    2021    겨울   \n",
              "1  210105094818358  자동차/철도차량        차량(대우25톤장축카고트럭) 화재    2021    겨울   \n",
              "2  210106160925135  자동차/철도차량   프론티어 2.5톤 덤프트럭(95다7470)    2021    겨울   \n",
              "3  210113002126762  자동차/철도차량                  에쿠스 차량화재    2021    겨울   \n",
              "4  210118135555569  자동차/철도차량                 GM스파크(차량)    2021    겨울   \n",
              "\n",
              "     화재발생일자  화재발생월  출동소요시간   시도명     시군구명   읍면동명 도시농촌구분명         발화열원명  \\\n",
              "0  20210101      1     800  전라북도  전주시 덕진구     중동      도시    마찰열/마찰 스파크   \n",
              "1  20210104      1     546  전라북도      군산시    산북동      도시    마찰열/마찰 스파크   \n",
              "2  20210106      1     439  전라북도      남원시    화정동      도시    전기적 아크(단락)   \n",
              "3  20210112      1     240  전라북도  전주시 완산구  평화동2가      도시     기기 전도/복사열   \n",
              "4  20210118      1     248  전라북도      군산시    수송동      도시  불꽃/ 스파크/ 정전기   \n",
              "\n",
              "  발화요인대분류명  친환경차량분류명  차량장소 차량발화지점  시간단위기온  시간단위강수량  시간단위습도  \n",
              "0     교통사고       NaN  일반도로    엔진룸    -1.9      NaN    69.0  \n",
              "1   기계적 요인       NaN  일반도로     바퀴     2.9      NaN    50.0  \n",
              "2   전기적 요인       NaN    공지    앞좌석     0.0      NaN    45.0  \n",
              "3   기계적 요인       NaN   주차장    엔진룸     1.7      NaN    71.0  \n",
              "4   전기적 요인       NaN  일반도로    엔진룸     5.7      NaN    48.0  "
            ],
            "text/html": [
              "\n",
              "  <div id=\"df-ea2f5494-801d-4cf4-8410-b125d875baa6\">\n",
              "    <div class=\"colab-df-container\">\n",
              "      <div>\n",
              "<style scoped>\n",
              "    .dataframe tbody tr th:only-of-type {\n",
              "        vertical-align: middle;\n",
              "    }\n",
              "\n",
              "    .dataframe tbody tr th {\n",
              "        vertical-align: top;\n",
              "    }\n",
              "\n",
              "    .dataframe thead th {\n",
              "        text-align: right;\n",
              "    }\n",
              "</style>\n",
              "<table border=\"1\" class=\"dataframe\">\n",
              "  <thead>\n",
              "    <tr style=\"text-align: right;\">\n",
              "      <th></th>\n",
              "      <th>조사서번호</th>\n",
              "      <th>화재유형명</th>\n",
              "      <th>대상물명</th>\n",
              "      <th>화재발생연도</th>\n",
              "      <th>계절구분명</th>\n",
              "      <th>화재발생일자</th>\n",
              "      <th>화재발생월</th>\n",
              "      <th>출동소요시간</th>\n",
              "      <th>시도명</th>\n",
              "      <th>시군구명</th>\n",
              "      <th>읍면동명</th>\n",
              "      <th>도시농촌구분명</th>\n",
              "      <th>발화열원명</th>\n",
              "      <th>발화요인대분류명</th>\n",
              "      <th>친환경차량분류명</th>\n",
              "      <th>차량장소</th>\n",
              "      <th>차량발화지점</th>\n",
              "      <th>시간단위기온</th>\n",
              "      <th>시간단위강수량</th>\n",
              "      <th>시간단위습도</th>\n",
              "    </tr>\n",
              "  </thead>\n",
              "  <tbody>\n",
              "    <tr>\n",
              "      <th>0</th>\n",
              "      <td>210101124037891</td>\n",
              "      <td>자동차/철도차량</td>\n",
              "      <td>k5(277모3074, 2012년식,LPG)</td>\n",
              "      <td>2021</td>\n",
              "      <td>겨울</td>\n",
              "      <td>20210101</td>\n",
              "      <td>1</td>\n",
              "      <td>800</td>\n",
              "      <td>전라북도</td>\n",
              "      <td>전주시 덕진구</td>\n",
              "      <td>중동</td>\n",
              "      <td>도시</td>\n",
              "      <td>마찰열/마찰 스파크</td>\n",
              "      <td>교통사고</td>\n",
              "      <td>NaN</td>\n",
              "      <td>일반도로</td>\n",
              "      <td>엔진룸</td>\n",
              "      <td>-1.9</td>\n",
              "      <td>NaN</td>\n",
              "      <td>69.0</td>\n",
              "    </tr>\n",
              "    <tr>\n",
              "      <th>1</th>\n",
              "      <td>210105094818358</td>\n",
              "      <td>자동차/철도차량</td>\n",
              "      <td>차량(대우25톤장축카고트럭) 화재</td>\n",
              "      <td>2021</td>\n",
              "      <td>겨울</td>\n",
              "      <td>20210104</td>\n",
              "      <td>1</td>\n",
              "      <td>546</td>\n",
              "      <td>전라북도</td>\n",
              "      <td>군산시</td>\n",
              "      <td>산북동</td>\n",
              "      <td>도시</td>\n",
              "      <td>마찰열/마찰 스파크</td>\n",
              "      <td>기계적 요인</td>\n",
              "      <td>NaN</td>\n",
              "      <td>일반도로</td>\n",
              "      <td>바퀴</td>\n",
              "      <td>2.9</td>\n",
              "      <td>NaN</td>\n",
              "      <td>50.0</td>\n",
              "    </tr>\n",
              "    <tr>\n",
              "      <th>2</th>\n",
              "      <td>210106160925135</td>\n",
              "      <td>자동차/철도차량</td>\n",
              "      <td>프론티어 2.5톤 덤프트럭(95다7470)</td>\n",
              "      <td>2021</td>\n",
              "      <td>겨울</td>\n",
              "      <td>20210106</td>\n",
              "      <td>1</td>\n",
              "      <td>439</td>\n",
              "      <td>전라북도</td>\n",
              "      <td>남원시</td>\n",
              "      <td>화정동</td>\n",
              "      <td>도시</td>\n",
              "      <td>전기적 아크(단락)</td>\n",
              "      <td>전기적 요인</td>\n",
              "      <td>NaN</td>\n",
              "      <td>공지</td>\n",
              "      <td>앞좌석</td>\n",
              "      <td>0.0</td>\n",
              "      <td>NaN</td>\n",
              "      <td>45.0</td>\n",
              "    </tr>\n",
              "    <tr>\n",
              "      <th>3</th>\n",
              "      <td>210113002126762</td>\n",
              "      <td>자동차/철도차량</td>\n",
              "      <td>에쿠스 차량화재</td>\n",
              "      <td>2021</td>\n",
              "      <td>겨울</td>\n",
              "      <td>20210112</td>\n",
              "      <td>1</td>\n",
              "      <td>240</td>\n",
              "      <td>전라북도</td>\n",
              "      <td>전주시 완산구</td>\n",
              "      <td>평화동2가</td>\n",
              "      <td>도시</td>\n",
              "      <td>기기 전도/복사열</td>\n",
              "      <td>기계적 요인</td>\n",
              "      <td>NaN</td>\n",
              "      <td>주차장</td>\n",
              "      <td>엔진룸</td>\n",
              "      <td>1.7</td>\n",
              "      <td>NaN</td>\n",
              "      <td>71.0</td>\n",
              "    </tr>\n",
              "    <tr>\n",
              "      <th>4</th>\n",
              "      <td>210118135555569</td>\n",
              "      <td>자동차/철도차량</td>\n",
              "      <td>GM스파크(차량)</td>\n",
              "      <td>2021</td>\n",
              "      <td>겨울</td>\n",
              "      <td>20210118</td>\n",
              "      <td>1</td>\n",
              "      <td>248</td>\n",
              "      <td>전라북도</td>\n",
              "      <td>군산시</td>\n",
              "      <td>수송동</td>\n",
              "      <td>도시</td>\n",
              "      <td>불꽃/ 스파크/ 정전기</td>\n",
              "      <td>전기적 요인</td>\n",
              "      <td>NaN</td>\n",
              "      <td>일반도로</td>\n",
              "      <td>엔진룸</td>\n",
              "      <td>5.7</td>\n",
              "      <td>NaN</td>\n",
              "      <td>48.0</td>\n",
              "    </tr>\n",
              "  </tbody>\n",
              "</table>\n",
              "</div>\n",
              "      <button class=\"colab-df-convert\" onclick=\"convertToInteractive('df-ea2f5494-801d-4cf4-8410-b125d875baa6')\"\n",
              "              title=\"Convert this dataframe to an interactive table.\"\n",
              "              style=\"display:none;\">\n",
              "        \n",
              "  <svg xmlns=\"http://www.w3.org/2000/svg\" height=\"24px\"viewBox=\"0 0 24 24\"\n",
              "       width=\"24px\">\n",
              "    <path d=\"M0 0h24v24H0V0z\" fill=\"none\"/>\n",
              "    <path d=\"M18.56 5.44l.94 2.06.94-2.06 2.06-.94-2.06-.94-.94-2.06-.94 2.06-2.06.94zm-11 1L8.5 8.5l.94-2.06 2.06-.94-2.06-.94L8.5 2.5l-.94 2.06-2.06.94zm10 10l.94 2.06.94-2.06 2.06-.94-2.06-.94-.94-2.06-.94 2.06-2.06.94z\"/><path d=\"M17.41 7.96l-1.37-1.37c-.4-.4-.92-.59-1.43-.59-.52 0-1.04.2-1.43.59L10.3 9.45l-7.72 7.72c-.78.78-.78 2.05 0 2.83L4 21.41c.39.39.9.59 1.41.59.51 0 1.02-.2 1.41-.59l7.78-7.78 2.81-2.81c.8-.78.8-2.07 0-2.86zM5.41 20L4 18.59l7.72-7.72 1.47 1.35L5.41 20z\"/>\n",
              "  </svg>\n",
              "      </button>\n",
              "      \n",
              "  <style>\n",
              "    .colab-df-container {\n",
              "      display:flex;\n",
              "      flex-wrap:wrap;\n",
              "      gap: 12px;\n",
              "    }\n",
              "\n",
              "    .colab-df-convert {\n",
              "      background-color: #E8F0FE;\n",
              "      border: none;\n",
              "      border-radius: 50%;\n",
              "      cursor: pointer;\n",
              "      display: none;\n",
              "      fill: #1967D2;\n",
              "      height: 32px;\n",
              "      padding: 0 0 0 0;\n",
              "      width: 32px;\n",
              "    }\n",
              "\n",
              "    .colab-df-convert:hover {\n",
              "      background-color: #E2EBFA;\n",
              "      box-shadow: 0px 1px 2px rgba(60, 64, 67, 0.3), 0px 1px 3px 1px rgba(60, 64, 67, 0.15);\n",
              "      fill: #174EA6;\n",
              "    }\n",
              "\n",
              "    [theme=dark] .colab-df-convert {\n",
              "      background-color: #3B4455;\n",
              "      fill: #D2E3FC;\n",
              "    }\n",
              "\n",
              "    [theme=dark] .colab-df-convert:hover {\n",
              "      background-color: #434B5C;\n",
              "      box-shadow: 0px 1px 3px 1px rgba(0, 0, 0, 0.15);\n",
              "      filter: drop-shadow(0px 1px 2px rgba(0, 0, 0, 0.3));\n",
              "      fill: #FFFFFF;\n",
              "    }\n",
              "  </style>\n",
              "\n",
              "      <script>\n",
              "        const buttonEl =\n",
              "          document.querySelector('#df-ea2f5494-801d-4cf4-8410-b125d875baa6 button.colab-df-convert');\n",
              "        buttonEl.style.display =\n",
              "          google.colab.kernel.accessAllowed ? 'block' : 'none';\n",
              "\n",
              "        async function convertToInteractive(key) {\n",
              "          const element = document.querySelector('#df-ea2f5494-801d-4cf4-8410-b125d875baa6');\n",
              "          const dataTable =\n",
              "            await google.colab.kernel.invokeFunction('convertToInteractive',\n",
              "                                                     [key], {});\n",
              "          if (!dataTable) return;\n",
              "\n",
              "          const docLinkHtml = 'Like what you see? Visit the ' +\n",
              "            '<a target=\"_blank\" href=https://colab.research.google.com/notebooks/data_table.ipynb>data table notebook</a>'\n",
              "            + ' to learn more about interactive tables.';\n",
              "          element.innerHTML = '';\n",
              "          dataTable['output_type'] = 'display_data';\n",
              "          await google.colab.output.renderOutput(dataTable, element);\n",
              "          const docLink = document.createElement('div');\n",
              "          docLink.innerHTML = docLinkHtml;\n",
              "          element.appendChild(docLink);\n",
              "        }\n",
              "      </script>\n",
              "    </div>\n",
              "  </div>\n",
              "  "
            ]
          },
          "metadata": {},
          "execution_count": 11
        }
      ]
    },
    {
      "cell_type": "code",
      "source": [
        "df_car['조사서번호'].count()"
      ],
      "metadata": {
        "colab": {
          "base_uri": "https://localhost:8080/"
        },
        "id": "TP4dglvAizzM",
        "outputId": "a328b6b9-530c-4912-8191-8e89f4c0967c"
      },
      "execution_count": null,
      "outputs": [
        {
          "output_type": "execute_result",
          "data": {
            "text/plain": [
              "262"
            ]
          },
          "metadata": {},
          "execution_count": 12
        }
      ]
    },
    {
      "cell_type": "code",
      "source": [
        "# 발화요인 분석\n",
        "plt.figure(figsize=(20, 10))\n",
        "sns.countplot(x=\"발화요인대분류명\", data=df_car)"
      ],
      "metadata": {
        "colab": {
          "base_uri": "https://localhost:8080/",
          "height": 623
        },
        "id": "QezlpR4OEoZv",
        "outputId": "e7485a4e-9f1e-4d62-9f31-2c73fbd8c239"
      },
      "execution_count": null,
      "outputs": [
        {
          "output_type": "execute_result",
          "data": {
            "text/plain": [
              "<matplotlib.axes._subplots.AxesSubplot at 0x7fcdaf026650>"
            ]
          },
          "metadata": {},
          "execution_count": 13
        },
        {
          "output_type": "display_data",
          "data": {
            "text/plain": [
              "<Figure size 1440x720 with 1 Axes>"
            ],
            "image/png": "[encoded data removed]"
          },
          "metadata": {
            "needs_background": "light"
          }
        }
      ]
    },
    {
      "cell_type": "code",
      "source": [
        "#도시와 농촌으로 구분한 발화요인 분석\n",
        "plt.figure(figsize=(20, 10))\n",
        "sns.countplot(x=\"발화요인대분류명\", hue='도시농촌구분명', data=df_car)"
      ],
      "metadata": {
        "colab": {
          "base_uri": "https://localhost:8080/",
          "height": 623
        },
        "id": "FzqIB18_wVr7",
        "outputId": "4798418f-4318-4f7b-8d71-9e830637062d"
      },
      "execution_count": null,
      "outputs": [
        {
          "output_type": "execute_result",
          "data": {
            "text/plain": [
              "<matplotlib.axes._subplots.AxesSubplot at 0x7fcdae136190>"
            ]
          },
          "metadata": {},
          "execution_count": 14
        },
        {
          "output_type": "display_data",
          "data": {
            "text/plain": [
              "<Figure size 1440x720 with 1 Axes>"
            ],
            "image/png": "[encoded data removed]"
          },
          "metadata": {
            "needs_background": "light"
          }
        }
      ]
    },
    {
      "cell_type": "code",
      "source": [
        "#발화열원에 따른 분류\n",
        "plt.figure(figsize=(20, 10))\n",
        "sns.countplot(x=\"발화열원명\", data=df_car)"
      ],
      "metadata": {
        "colab": {
          "base_uri": "https://localhost:8080/",
          "height": 624
        },
        "id": "37RIOtCPYUUN",
        "outputId": "4e7ec631-81be-4fd2-80ae-aa262007e2d6"
      },
      "execution_count": null,
      "outputs": [
        {
          "output_type": "execute_result",
          "data": {
            "text/plain": [
              "<matplotlib.axes._subplots.AxesSubplot at 0x7fcdadbd0bd0>"
            ]
          },
          "metadata": {},
          "execution_count": 15
        },
        {
          "output_type": "display_data",
          "data": {
            "text/plain": [
              "<Figure size 1440x720 with 1 Axes>"
            ],
            "image/png": "[encoded data removed]"
          },
          "metadata": {
            "needs_background": "light"
          }
        }
      ]
    },
    {
      "cell_type": "code",
      "source": [
        "#도시와 농촌으로 구분한 발화열원에 따른 분류\n",
        "plt.figure(figsize=(50, 10))\n",
        "sns.countplot(x=\"발화열원명\", hue='도시농촌구분명', data=df_car)"
      ],
      "metadata": {
        "colab": {
          "base_uri": "https://localhost:8080/",
          "height": 643
        },
        "id": "qT4iNdmHwq_f",
        "outputId": "f4ffc5eb-8ece-46c5-f748-c24e2fccc99f"
      },
      "execution_count": null,
      "outputs": [
        {
          "output_type": "execute_result",
          "data": {
            "text/plain": [
              "<matplotlib.axes._subplots.AxesSubplot at 0x7fcdadb14690>"
            ]
          },
          "metadata": {},
          "execution_count": 16
        },
        {
          "output_type": "display_data",
          "data": {
            "text/plain": [
              "<Figure size 3600x720 with 1 Axes>"
            ],
            "image/png": "[encoded data removed]"
          },
          "metadata": {
            "needs_background": "light"
          }
        }
      ]
    },
    {
      "cell_type": "code",
      "source": [
        "df_car['도시농촌구분명'].value_counts()"
      ],
      "metadata": {
        "colab": {
          "base_uri": "https://localhost:8080/"
        },
        "id": "INwiHfNKG6aI",
        "outputId": "b8775850-36f5-40de-8c27-a52d7a2e574a"
      },
      "execution_count": null,
      "outputs": [
        {
          "output_type": "execute_result",
          "data": {
            "text/plain": [
              "농촌    167\n",
              "도시     95\n",
              "Name: 도시농촌구분명, dtype: int64"
            ]
          },
          "metadata": {},
          "execution_count": 17
        }
      ]
    },
    {
      "cell_type": "markdown",
      "source": [
        ""
      ],
      "metadata": {
        "id": "8SGnb2oXXwY1"
      }
    },
    {
      "cell_type": "code",
      "source": [
        "df_type = df_car['도시농촌구분명'].value_counts()\n",
        "plt.figure(figsize=(8, 8))\n",
        "plt.rc('font', size=18 )\n",
        "df_type.plot.pie(autopct='%.2f%%')\n",
        "title_font = { 'fontsize':20, 'fontweight': 'bold'}\n",
        "plt.title('[도시/농촌별 차량화재 발생비율]', fontdict=title_font)\n",
        "plt.show()"
      ],
      "metadata": {
        "colab": {
          "base_uri": "https://localhost:8080/",
          "height": 489
        },
        "id": "yBrk8JKhHC45",
        "outputId": "c8ffd21d-b8c2-4b60-da5a-4475a7bc56c9"
      },
      "execution_count": null,
      "outputs": [
        {
          "output_type": "display_data",
          "data": {
            "text/plain": [
              "<Figure size 576x576 with 1 Axes>"
            ],
            "image/png": "[encoded data removed]"
          },
          "metadata": {}
        }
      ]
    },
    {
      "cell_type": "code",
      "source": [
        "#차량 화재 장소\n",
        "plt.figure(figsize=(20,10))\n",
        "sns.countplot(x=\"차량장소\",  data=df_car)"
      ],
      "metadata": {
        "colab": {
          "base_uri": "https://localhost:8080/",
          "height": 638
        },
        "id": "vLhzawHlcGel",
        "outputId": "09f8cde9-a1f0-4be9-9be5-2f0a9c949210"
      },
      "execution_count": null,
      "outputs": [
        {
          "output_type": "execute_result",
          "data": {
            "text/plain": [
              "<matplotlib.axes._subplots.AxesSubplot at 0x7fcdada10290>"
            ]
          },
          "metadata": {},
          "execution_count": 19
        },
        {
          "output_type": "display_data",
          "data": {
            "text/plain": [
              "<Figure size 1440x720 with 1 Axes>"
            ],
            "image/png": "[encoded data removed]"
          },
          "metadata": {
            "needs_background": "light"
          }
        }
      ]
    },
    {
      "cell_type": "code",
      "source": [
        "ratio = df_car['계절구분명'].value_counts()\n",
        "plt.figure(figsize=(8, 8))\n",
        "labels = ['여름', '겨울', '가을', '봄']\n",
        "explode = [0.05, 0.05, 0.05, 0.05]\n",
        "colors = ['#ff9999', '#ffc000', '#8fd9b6', '#d395d0']\n",
        "title_font = { 'fontsize':20, 'fontweight': 'bold' }\n",
        "plt.title('[계절별 차량화재 발생비율]', fontdict=title_font)\n",
        "plt.rc('font', size=18 )\n",
        "\n",
        "plt.pie(ratio, labels=labels, autopct='%.1f%%', startangle=260, counterclock=False, explode=explode, shadow=True, colors=colors)\n",
        "plt.show()"
      ],
      "metadata": {
        "colab": {
          "base_uri": "https://localhost:8080/",
          "height": 489
        },
        "id": "xVOArqZ_3Jpb",
        "outputId": "4e35d891-1a5f-4114-e5fb-ee401ed4d896"
      },
      "execution_count": null,
      "outputs": [
        {
          "output_type": "display_data",
          "data": {
            "text/plain": [
              "<Figure size 576x576 with 1 Axes>"
            ],
            "image/png": "[encoded data removed]"
          },
          "metadata": {}
        }
      ]
    },
    {
      "cell_type": "markdown",
      "source": [
        "## **Fail DATA**\n",
        "\n",
        "\n",
        "> 실패한 데이터로, 외부에서 소스는 가져왔으나 알맞게 변경하지 못함.\n",
        "\n",
        "\n",
        "\n"
      ],
      "metadata": {
        "id": "MJTNeCt7CRUc"
      }
    },
    {
      "cell_type": "code",
      "source": [
        "## seaborn으로 출동소요시간과 시군구에 따른 히트맵 분석?\n",
        "fig = plt.figure(figsize=(8,8))\n",
        "fig.set_facecolor('white')\n",
        "\n",
        "sns.heatmap(data=df_car, cmap='Pastel1')\n",
        "plt.xticks(df_car['출동소요시간']) ## x축 눈금 생성\n",
        "plt.yticks(df_car['시군구명']) ## y축 눈금 생성\n",
        "plt.title('지역별 출동시간분석', fontsize=20)\n",
        " \n",
        "plt.show()"
      ],
      "metadata": {
        "id": "kABMWCJbxlsr"
      },
      "execution_count": null,
      "outputs": []
    },
    {
      "cell_type": "code",
      "source": [
        "import folium as f\n",
        "\n",
        "# Step1: 지도 불러오기\n",
        "m = f.Map(location = [위도, 경도], zoom_start = 11)\n",
        "\n",
        "f.Choropleth( )\n",
        "# Step2: geo data에 자치구별 집계값 추가\n",
        "for i in range(len(geo['features'])):\n",
        "    SGG_close_values = temp2.reset_index()[temp2.reset_index()['소재지주소시군구'] == geo['features'][i]['properties']['SIG_KOR_NM']]['after'].values[0]\n",
        "    SGG_pop_values = pop_final[pop_final['자치구'] == geo['features'][i]['properties']['SIG_KORNM']]['2020년06월총인구수'].values[0]\n",
        "    geo['features'][i]['properties']['Close_rate'], geo['features'][i]['properties']['pop_total'] = SGG_close_values, SGG_pop_values\n",
        "\n",
        "# Step3: 지도 시각화\n",
        "choropleth = folium.Choropleth(\n",
        "    geo_data = geo, # 지리 데이터\n",
        "    data = temp2.reset_index(), # 정형 데이터 테이블\n",
        "    columns = ['소재지주소시군구', 'after'], # 사용자 데이터 테이블에서 [조인할 key, 시각화 하고 싶은 데이터]\n",
        "    key_on = 'feature.properties.SIG_KOR_NM', # 지리 데이터에서 조일할 'key'\n",
        "    fill_color = 'YlOrRd', # 색 채우기\n",
        "    fill_opacity = 0.5, # 색 투명도\n",
        "    line_opacity = 0.5, # 선 투명도\n",
        "    legend_name = '폐업률 비율', # 범례 제목\n",
        "    Highlight = True, # \n",
        "    show = False,\n",
        "    overlay = True,\n",
        ").add_to(m)\n",
        "\n",
        "# Step4: 지도 라벨링\n",
        "choropleth.geojson.add_child(\n",
        "    folium.features.GeoJsonTooltip(\n",
        "        fields = ['SIG_KOR_NM', 'Close_rate', 'pop_total'],\n",
        "        aliases = ['자치구', '폐업률', '총인구수'])\n",
        "    )\n",
        "\n",
        "m"
      ],
      "metadata": {
        "id": "tmWHw16G42bm"
      },
      "execution_count": null,
      "outputs": []
    },
    {
      "cell_type": "code",
      "source": [
        "from konlpy.tag import Okt\n",
        "okt=Okt()\n",
        "tokens_ko = okt.nouns(merge_text)\n",
        "import nltk\n",
        "\n",
        "from wordcloud import WordCloud\n",
        "data = ko.vocab().most_common(100)\n",
        "\n",
        "path='/usr/share/fonts/truetype/nanum/NanumBarunGothic.ttf'\n",
        "wc=WordCloud(font_path=path,relative_scaling=0.2,background_color='white').generate_from_frequencies(dict(data))\n",
        "\n",
        "plt.figure(figsize=(18,14))\n",
        "plt.imshow(wc)\n",
        "plt.axis('off')\n",
        "plt.show()"
      ],
      "metadata": {
        "id": "PCPCF8JBT8qb"
      },
      "execution_count": null,
      "outputs": []
    }
  ]
}