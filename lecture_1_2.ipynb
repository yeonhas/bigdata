{
  "nbformat": 4,
  "nbformat_minor": 0,
  "metadata": {
    "colab": {
      "name": "lecture 1-2.ipynb",
      "provenance": [],
      "collapsed_sections": [],
      "authorship_tag": "ABX9TyMdWDIIf0b796uO4bxLPoTe",
      "include_colab_link": true
    },
    "kernelspec": {
      "name": "python3",
      "display_name": "Python 3"
    },
    "language_info": {
      "name": "python"
    }
  },
  "cells": [
    {
      "cell_type": "markdown",
      "metadata": {
        "id": "view-in-github",
        "colab_type": "text"
      },
      "source": [
        "<a href=\"https://colab.research.google.com/github/yeonhas/bigdata/blob/main/lecture_1_2.ipynb\" target=\"_parent\"><img src=\"https://colab.research.google.com/assets/colab-badge.svg\" alt=\"Open In Colab\"/></a>"
      ]
    },
    {
      "cell_type": "code",
      "execution_count": 1,
      "metadata": {
        "id": "5k_QReZnn8so",
        "colab": {
          "base_uri": "https://localhost:8080/"
        },
        "outputId": "266b2478-87f0-473d-e343-dec9e03317d9"
      },
      "outputs": [
        {
          "output_type": "stream",
          "name": "stdout",
          "text": [
            "Mounted at /content/gdrive/\n"
          ]
        }
      ],
      "source": [
        "from google.colab import drive\n",
        "drive.mount('/content/gdrive/')"
      ]
    },
    {
      "cell_type": "code",
      "source": [
        "import os\n",
        "\n",
        "print(\"before: %s\"%os.getcwd())\n",
        "os.chdir(\"/content/gdrive/My Drive/소방청 데이터/강의2\")\n",
        "print(\"after: %s\"%os.getcwd())"
      ],
      "metadata": {
        "id": "qIZxG7f7oHM4",
        "colab": {
          "base_uri": "https://localhost:8080/"
        },
        "outputId": "2ccd9f59-27ab-4064-eec5-cbed020e05e1"
      },
      "execution_count": 1,
      "outputs": [
        {
          "output_type": "stream",
          "name": "stdout",
          "text": [
            "before: /content\n",
            "after: /content/gdrive/My Drive/소방청 데이터/강의2\n"
          ]
        }
      ]
    },
    {
      "cell_type": "code",
      "source": [
        "import pandas as pd"
      ],
      "metadata": {
        "id": "2AlUXpXgoHRw"
      },
      "execution_count": 2,
      "outputs": []
    },
    {
      "cell_type": "code",
      "source": [
        "df = pd.read_csv('특수건물 자연재해 위험도 지수.csv')"
      ],
      "metadata": {
        "id": "A_9gIn9for4B"
      },
      "execution_count": 5,
      "outputs": []
    },
    {
      "cell_type": "code",
      "source": [
        "df.head() #데이터 일부 출력"
      ],
      "metadata": {
        "id": "ABRqZc9oo0RY",
        "colab": {
          "base_uri": "https://localhost:8080/",
          "height": 543
        },
        "outputId": "3d37c3f7-375c-42f1-9fba-2e7191b1c522"
      },
      "execution_count": 6,
      "outputs": [
        {
          "output_type": "execute_result",
          "data": {
            "text/plain": [
              "   SEQ_NO  APLY_YEAR  F_BI_WIND  C  dpjgi_YEAR  dnum_csang_max  dnum_cHA_max  \\\n",
              "0       1       2020       1.16  0        1987               3             1   \n",
              "1       2       2020       1.37  0        2009               3             1   \n",
              "2       3       2020       1.18  0        2002               2             1   \n",
              "3       4       2020       1.23  0        1994               3             1   \n",
              "4       5       2020       1.30  0        1997               5             1   \n",
              "\n",
              "     YMJHAP UPJONG_NM NRI_bdframe_NM  ... i15_CNT_SUM i7_roofSlope_cd_NM  \\\n",
              "0  10238.09        국유         철근콘크리트  ...           2   10 m 이하 또는 슬래브지붕   \n",
              "1   9225.41        판매         철근콘크리트  ...           5      11m 이상 20m 이하   \n",
              "2   3428.21        국유         철근콘크리트  ...           6   10 m 이하 또는 슬래브지붕   \n",
              "3   3768.22        병원         철근콘크리트  ...           5   10 m 이하 또는 슬래브지붕   \n",
              "4   3843.09        병원         철근콘크리트  ...           6   10 m 이하 또는 슬래브지붕   \n",
              "\n",
              "  i9_roofMaterial_cd_NM   i8_roofShape_cd_NM  \\\n",
              "0                 슬래브지붕          파라펫이 있는 평지붕   \n",
              "1                샌드위치판넬  박공지붕(솟을지붕, 꺽인지붕 포함)   \n",
              "2                 슬래브지붕          파라펫이 있는 평지붕   \n",
              "3                 슬래브지붕          파라펫이 있는 평지붕   \n",
              "4                 슬래브지붕          파라펫이 있는 평지붕   \n",
              "\n",
              "                        i11_wallCare_cd_NM  i12_door_cd_NM i12_Door_Gather  \\\n",
              "0  자립식 벽체인 경우 또는 볼트 접합 양호함(외벽과 구조부재 이격 없음)           강화유리문           1층,옥상   \n",
              "1           볼트 접합 보통(외벽과 구조부재 1 cm 이하 움직임)           강화유리문              1층   \n",
              "2  자립식 벽체인 경우 또는 볼트 접합 양호함(외벽과 구조부재 이격 없음)           자동유리문           1층,옥상   \n",
              "3  자립식 벽체인 경우 또는 볼트 접합 양호함(외벽과 구조부재 이격 없음)           강화유리문           1층,옥상   \n",
              "4  자립식 벽체인 경우 또는 볼트 접합 양호함(외벽과 구조부재 이격 없음)           강화유리문           1층,옥상   \n",
              "\n",
              "  i13_windowRate_cd_nm i13_windowArea_cd_NM             i14_exposeArea_cd_nm  \n",
              "0      26 % 이상 50 % 이하    1.1 ㎡ 이상 2.0 ㎡ 이하            바닥면적 26 ㎡ 이상 100 ㎡ 이하  \n",
              "1              51 % 이상    2.1 ㎡ 이상 4.0 ㎡ 이하                         노출 천장 없음  \n",
              "2      26 % 이상 50 % 이하    1.1 ㎡ 이상 2.0 ㎡ 이하  바닥면적 25 ㎡ 이하 또는 캐노피 이외 노출 천장 없음  \n",
              "3      26 % 이상 50 % 이하    1.1 ㎡ 이상 2.0 ㎡ 이하            바닥면적 26 ㎡ 이상 100 ㎡ 이하  \n",
              "4    25 % 이하 또는 커튼월 구조    2.1 ㎡ 이상 4.0 ㎡ 이하            바닥면적 26 ㎡ 이상 100 ㎡ 이하  \n",
              "\n",
              "[5 rows x 25 columns]"
            ],
            "text/html": [
              "\n",
              "  <div id=\"df-1d77c0d7-abfa-4ef2-b11f-34eea2faad40\">\n",
              "    <div class=\"colab-df-container\">\n",
              "      <div>\n",
              "<style scoped>\n",
              "    .dataframe tbody tr th:only-of-type {\n",
              "        vertical-align: middle;\n",
              "    }\n",
              "\n",
              "    .dataframe tbody tr th {\n",
              "        vertical-align: top;\n",
              "    }\n",
              "\n",
              "    .dataframe thead th {\n",
              "        text-align: right;\n",
              "    }\n",
              "</style>\n",
              "<table border=\"1\" class=\"dataframe\">\n",
              "  <thead>\n",
              "    <tr style=\"text-align: right;\">\n",
              "      <th></th>\n",
              "      <th>SEQ_NO</th>\n",
              "      <th>APLY_YEAR</th>\n",
              "      <th>F_BI_WIND</th>\n",
              "      <th>C</th>\n",
              "      <th>dpjgi_YEAR</th>\n",
              "      <th>dnum_csang_max</th>\n",
              "      <th>dnum_cHA_max</th>\n",
              "      <th>YMJHAP</th>\n",
              "      <th>UPJONG_NM</th>\n",
              "      <th>NRI_bdframe_NM</th>\n",
              "      <th>...</th>\n",
              "      <th>i15_CNT_SUM</th>\n",
              "      <th>i7_roofSlope_cd_NM</th>\n",
              "      <th>i9_roofMaterial_cd_NM</th>\n",
              "      <th>i8_roofShape_cd_NM</th>\n",
              "      <th>i11_wallCare_cd_NM</th>\n",
              "      <th>i12_door_cd_NM</th>\n",
              "      <th>i12_Door_Gather</th>\n",
              "      <th>i13_windowRate_cd_nm</th>\n",
              "      <th>i13_windowArea_cd_NM</th>\n",
              "      <th>i14_exposeArea_cd_nm</th>\n",
              "    </tr>\n",
              "  </thead>\n",
              "  <tbody>\n",
              "    <tr>\n",
              "      <th>0</th>\n",
              "      <td>1</td>\n",
              "      <td>2020</td>\n",
              "      <td>1.16</td>\n",
              "      <td>0</td>\n",
              "      <td>1987</td>\n",
              "      <td>3</td>\n",
              "      <td>1</td>\n",
              "      <td>10238.09</td>\n",
              "      <td>국유</td>\n",
              "      <td>철근콘크리트</td>\n",
              "      <td>...</td>\n",
              "      <td>2</td>\n",
              "      <td>10 m 이하 또는 슬래브지붕</td>\n",
              "      <td>슬래브지붕</td>\n",
              "      <td>파라펫이 있는 평지붕</td>\n",
              "      <td>자립식 벽체인 경우 또는 볼트 접합 양호함(외벽과 구조부재 이격 없음)</td>\n",
              "      <td>강화유리문</td>\n",
              "      <td>1층,옥상</td>\n",
              "      <td>26 % 이상 50 % 이하</td>\n",
              "      <td>1.1 ㎡ 이상 2.0 ㎡ 이하</td>\n",
              "      <td>바닥면적 26 ㎡ 이상 100 ㎡ 이하</td>\n",
              "    </tr>\n",
              "    <tr>\n",
              "      <th>1</th>\n",
              "      <td>2</td>\n",
              "      <td>2020</td>\n",
              "      <td>1.37</td>\n",
              "      <td>0</td>\n",
              "      <td>2009</td>\n",
              "      <td>3</td>\n",
              "      <td>1</td>\n",
              "      <td>9225.41</td>\n",
              "      <td>판매</td>\n",
              "      <td>철근콘크리트</td>\n",
              "      <td>...</td>\n",
              "      <td>5</td>\n",
              "      <td>11m 이상 20m 이하</td>\n",
              "      <td>샌드위치판넬</td>\n",
              "      <td>박공지붕(솟을지붕, 꺽인지붕 포함)</td>\n",
              "      <td>볼트 접합 보통(외벽과 구조부재 1 cm 이하 움직임)</td>\n",
              "      <td>강화유리문</td>\n",
              "      <td>1층</td>\n",
              "      <td>51 % 이상</td>\n",
              "      <td>2.1 ㎡ 이상 4.0 ㎡ 이하</td>\n",
              "      <td>노출 천장 없음</td>\n",
              "    </tr>\n",
              "    <tr>\n",
              "      <th>2</th>\n",
              "      <td>3</td>\n",
              "      <td>2020</td>\n",
              "      <td>1.18</td>\n",
              "      <td>0</td>\n",
              "      <td>2002</td>\n",
              "      <td>2</td>\n",
              "      <td>1</td>\n",
              "      <td>3428.21</td>\n",
              "      <td>국유</td>\n",
              "      <td>철근콘크리트</td>\n",
              "      <td>...</td>\n",
              "      <td>6</td>\n",
              "      <td>10 m 이하 또는 슬래브지붕</td>\n",
              "      <td>슬래브지붕</td>\n",
              "      <td>파라펫이 있는 평지붕</td>\n",
              "      <td>자립식 벽체인 경우 또는 볼트 접합 양호함(외벽과 구조부재 이격 없음)</td>\n",
              "      <td>자동유리문</td>\n",
              "      <td>1층,옥상</td>\n",
              "      <td>26 % 이상 50 % 이하</td>\n",
              "      <td>1.1 ㎡ 이상 2.0 ㎡ 이하</td>\n",
              "      <td>바닥면적 25 ㎡ 이하 또는 캐노피 이외 노출 천장 없음</td>\n",
              "    </tr>\n",
              "    <tr>\n",
              "      <th>3</th>\n",
              "      <td>4</td>\n",
              "      <td>2020</td>\n",
              "      <td>1.23</td>\n",
              "      <td>0</td>\n",
              "      <td>1994</td>\n",
              "      <td>3</td>\n",
              "      <td>1</td>\n",
              "      <td>3768.22</td>\n",
              "      <td>병원</td>\n",
              "      <td>철근콘크리트</td>\n",
              "      <td>...</td>\n",
              "      <td>5</td>\n",
              "      <td>10 m 이하 또는 슬래브지붕</td>\n",
              "      <td>슬래브지붕</td>\n",
              "      <td>파라펫이 있는 평지붕</td>\n",
              "      <td>자립식 벽체인 경우 또는 볼트 접합 양호함(외벽과 구조부재 이격 없음)</td>\n",
              "      <td>강화유리문</td>\n",
              "      <td>1층,옥상</td>\n",
              "      <td>26 % 이상 50 % 이하</td>\n",
              "      <td>1.1 ㎡ 이상 2.0 ㎡ 이하</td>\n",
              "      <td>바닥면적 26 ㎡ 이상 100 ㎡ 이하</td>\n",
              "    </tr>\n",
              "    <tr>\n",
              "      <th>4</th>\n",
              "      <td>5</td>\n",
              "      <td>2020</td>\n",
              "      <td>1.30</td>\n",
              "      <td>0</td>\n",
              "      <td>1997</td>\n",
              "      <td>5</td>\n",
              "      <td>1</td>\n",
              "      <td>3843.09</td>\n",
              "      <td>병원</td>\n",
              "      <td>철근콘크리트</td>\n",
              "      <td>...</td>\n",
              "      <td>6</td>\n",
              "      <td>10 m 이하 또는 슬래브지붕</td>\n",
              "      <td>슬래브지붕</td>\n",
              "      <td>파라펫이 있는 평지붕</td>\n",
              "      <td>자립식 벽체인 경우 또는 볼트 접합 양호함(외벽과 구조부재 이격 없음)</td>\n",
              "      <td>강화유리문</td>\n",
              "      <td>1층,옥상</td>\n",
              "      <td>25 % 이하 또는 커튼월 구조</td>\n",
              "      <td>2.1 ㎡ 이상 4.0 ㎡ 이하</td>\n",
              "      <td>바닥면적 26 ㎡ 이상 100 ㎡ 이하</td>\n",
              "    </tr>\n",
              "  </tbody>\n",
              "</table>\n",
              "<p>5 rows × 25 columns</p>\n",
              "</div>\n",
              "      <button class=\"colab-df-convert\" onclick=\"convertToInteractive('df-1d77c0d7-abfa-4ef2-b11f-34eea2faad40')\"\n",
              "              title=\"Convert this dataframe to an interactive table.\"\n",
              "              style=\"display:none;\">\n",
              "        \n",
              "  <svg xmlns=\"http://www.w3.org/2000/svg\" height=\"24px\"viewBox=\"0 0 24 24\"\n",
              "       width=\"24px\">\n",
              "    <path d=\"M0 0h24v24H0V0z\" fill=\"none\"/>\n",
              "    <path d=\"M18.56 5.44l.94 2.06.94-2.06 2.06-.94-2.06-.94-.94-2.06-.94 2.06-2.06.94zm-11 1L8.5 8.5l.94-2.06 2.06-.94-2.06-.94L8.5 2.5l-.94 2.06-2.06.94zm10 10l.94 2.06.94-2.06 2.06-.94-2.06-.94-.94-2.06-.94 2.06-2.06.94z\"/><path d=\"M17.41 7.96l-1.37-1.37c-.4-.4-.92-.59-1.43-.59-.52 0-1.04.2-1.43.59L10.3 9.45l-7.72 7.72c-.78.78-.78 2.05 0 2.83L4 21.41c.39.39.9.59 1.41.59.51 0 1.02-.2 1.41-.59l7.78-7.78 2.81-2.81c.8-.78.8-2.07 0-2.86zM5.41 20L4 18.59l7.72-7.72 1.47 1.35L5.41 20z\"/>\n",
              "  </svg>\n",
              "      </button>\n",
              "      \n",
              "  <style>\n",
              "    .colab-df-container {\n",
              "      display:flex;\n",
              "      flex-wrap:wrap;\n",
              "      gap: 12px;\n",
              "    }\n",
              "\n",
              "    .colab-df-convert {\n",
              "      background-color: #E8F0FE;\n",
              "      border: none;\n",
              "      border-radius: 50%;\n",
              "      cursor: pointer;\n",
              "      display: none;\n",
              "      fill: #1967D2;\n",
              "      height: 32px;\n",
              "      padding: 0 0 0 0;\n",
              "      width: 32px;\n",
              "    }\n",
              "\n",
              "    .colab-df-convert:hover {\n",
              "      background-color: #E2EBFA;\n",
              "      box-shadow: 0px 1px 2px rgba(60, 64, 67, 0.3), 0px 1px 3px 1px rgba(60, 64, 67, 0.15);\n",
              "      fill: #174EA6;\n",
              "    }\n",
              "\n",
              "    [theme=dark] .colab-df-convert {\n",
              "      background-color: #3B4455;\n",
              "      fill: #D2E3FC;\n",
              "    }\n",
              "\n",
              "    [theme=dark] .colab-df-convert:hover {\n",
              "      background-color: #434B5C;\n",
              "      box-shadow: 0px 1px 3px 1px rgba(0, 0, 0, 0.15);\n",
              "      filter: drop-shadow(0px 1px 2px rgba(0, 0, 0, 0.3));\n",
              "      fill: #FFFFFF;\n",
              "    }\n",
              "  </style>\n",
              "\n",
              "      <script>\n",
              "        const buttonEl =\n",
              "          document.querySelector('#df-1d77c0d7-abfa-4ef2-b11f-34eea2faad40 button.colab-df-convert');\n",
              "        buttonEl.style.display =\n",
              "          google.colab.kernel.accessAllowed ? 'block' : 'none';\n",
              "\n",
              "        async function convertToInteractive(key) {\n",
              "          const element = document.querySelector('#df-1d77c0d7-abfa-4ef2-b11f-34eea2faad40');\n",
              "          const dataTable =\n",
              "            await google.colab.kernel.invokeFunction('convertToInteractive',\n",
              "                                                     [key], {});\n",
              "          if (!dataTable) return;\n",
              "\n",
              "          const docLinkHtml = 'Like what you see? Visit the ' +\n",
              "            '<a target=\"_blank\" href=https://colab.research.google.com/notebooks/data_table.ipynb>data table notebook</a>'\n",
              "            + ' to learn more about interactive tables.';\n",
              "          element.innerHTML = '';\n",
              "          dataTable['output_type'] = 'display_data';\n",
              "          await google.colab.output.renderOutput(dataTable, element);\n",
              "          const docLink = document.createElement('div');\n",
              "          docLink.innerHTML = docLinkHtml;\n",
              "          element.appendChild(docLink);\n",
              "        }\n",
              "      </script>\n",
              "    </div>\n",
              "  </div>\n",
              "  "
            ]
          },
          "metadata": {},
          "execution_count": 6
        }
      ]
    },
    {
      "cell_type": "code",
      "source": [
        "#건물 골조별 데이터의 수\n",
        "df['NRI_bdframe_NM'].value_counts()"
      ],
      "metadata": {
        "id": "JmN1X5iNo60X",
        "colab": {
          "base_uri": "https://localhost:8080/"
        },
        "outputId": "a8447d23-a3e6-44e5-9e70-9215299c91d2"
      },
      "execution_count": 7,
      "outputs": [
        {
          "output_type": "execute_result",
          "data": {
            "text/plain": [
              "철골조         14376\n",
              "철근콘크리트      14195\n",
              "-            5858\n",
              "철골철근콘크리트     2161\n",
              "조적조           300\n",
              "샌드위치판넬          6\n",
              "목조              5\n",
              "Name: NRI_bdframe_NM, dtype: int64"
            ]
          },
          "metadata": {},
          "execution_count": 7
        }
      ]
    },
    {
      "cell_type": "code",
      "source": [
        "#특정 조건을 만족하는 행을 추출(\"샌드위치 판넬 골조의 모든 데이터\")\n",
        "df[df['NRI_bdframe_NM']=='샌드위치판넬']"
      ],
      "metadata": {
        "id": "txDb4Ol-pHkH",
        "colab": {
          "base_uri": "https://localhost:8080/",
          "height": 626
        },
        "outputId": "35fa6ee5-bc6d-4a87-8615-98dbd4333081"
      },
      "execution_count": 8,
      "outputs": [
        {
          "output_type": "execute_result",
          "data": {
            "text/plain": [
              "       SEQ_NO  APLY_YEAR  F_BI_WIND  C  dpjgi_YEAR  dnum_csang_max  \\\n",
              "383       384       2020       1.34  0        2002               2   \n",
              "10156   10157       2020       1.68  0        2006               2   \n",
              "13221   13222       2020       1.55  0        1999               1   \n",
              "15314   15315       2020       1.21  0        2007               4   \n",
              "16108   16109       2020       1.17  0        2015               1   \n",
              "35410   35411       2020       1.40  0        2002               3   \n",
              "\n",
              "       dnum_cHA_max    YMJHAP UPJONG_NM NRI_bdframe_NM  ... i15_CNT_SUM  \\\n",
              "383               1   7359.34        국유         샌드위치판넬  ...           4   \n",
              "10156             1  17437.24        국유         샌드위치판넬  ...           3   \n",
              "13221             0  10461.17        공유         샌드위치판넬  ...           3   \n",
              "15314             1   6058.11        학원         샌드위치판넬  ...           3   \n",
              "16108             0   2931.98        국유         샌드위치판넬  ...           2   \n",
              "35410             1  16684.16        국유         샌드위치판넬  ...           4   \n",
              "\n",
              "      i7_roofSlope_cd_NM i9_roofMaterial_cd_NM   i8_roofShape_cd_NM  \\\n",
              "383        11m 이상 20m 이하                샌드위치판넬                 복합지붕   \n",
              "10156   10 m 이하 또는 슬래브지붕                  철판잇기           외짝지붕, 경사지붕   \n",
              "13221      11m 이상 20m 이하                샌드위치판넬  박공지붕(솟을지붕, 꺽인지붕 포함)   \n",
              "15314   10 m 이하 또는 슬래브지붕                아스팔트싱글  박공지붕(솟을지붕, 꺽인지붕 포함)   \n",
              "16108      11m 이상 20m 이하                샌드위치판넬  박공지붕(솟을지붕, 꺽인지붕 포함)   \n",
              "35410      11m 이상 20m 이하                샌드위치판넬  박공지붕(솟을지붕, 꺽인지붕 포함)   \n",
              "\n",
              "                            i11_wallCare_cd_NM  i12_door_cd_NM  \\\n",
              "383    자립식 벽체인 경우 또는 볼트 접합 양호함(외벽과 구조부재 이격 없음)    행거도어(샌드위치판넬)   \n",
              "10156  자립식 벽체인 경우 또는 볼트 접합 양호함(외벽과 구조부재 이격 없음)           강화유리문   \n",
              "13221  자립식 벽체인 경우 또는 볼트 접합 양호함(외벽과 구조부재 이격 없음)           강화유리문   \n",
              "15314  자립식 벽체인 경우 또는 볼트 접합 양호함(외벽과 구조부재 이격 없음)           강화유리문   \n",
              "16108           볼트 접합 보통(외벽과 구조부재 1 cm 이하 움직임)    행거도어(샌드위치판넬)   \n",
              "35410  자립식 벽체인 경우 또는 볼트 접합 양호함(외벽과 구조부재 이격 없음)              셔터   \n",
              "\n",
              "      i12_Door_Gather i13_windowRate_cd_nm i13_windowArea_cd_NM  \\\n",
              "383             1층,옥상      26 % 이상 50 % 이하    1.1 ㎡ 이상 2.0 ㎡ 이하   \n",
              "10156              1층    25 % 이하 또는 커튼월 구조    1.1 ㎡ 이상 2.0 ㎡ 이하   \n",
              "13221              1층    25 % 이하 또는 커튼월 구조    2.1 ㎡ 이상 4.0 ㎡ 이하   \n",
              "15314              1층              51 % 이상             1.0 ㎡ 이하   \n",
              "16108              1층    25 % 이하 또는 커튼월 구조             1.0 ㎡ 이하   \n",
              "35410           1층,옥상      26 % 이상 50 % 이하    1.1 ㎡ 이상 2.0 ㎡ 이하   \n",
              "\n",
              "                  i14_exposeArea_cd_nm  \n",
              "383    바닥면적 25 ㎡ 이하 또는 캐노피 이외 노출 천장 없음  \n",
              "10156                    바닥면적 101 ㎡ 이상  \n",
              "13221  바닥면적 25 ㎡ 이하 또는 캐노피 이외 노출 천장 없음  \n",
              "15314  바닥면적 25 ㎡ 이하 또는 캐노피 이외 노출 천장 없음  \n",
              "16108                         노출 천장 없음  \n",
              "35410            바닥면적 26 ㎡ 이상 100 ㎡ 이하  \n",
              "\n",
              "[6 rows x 25 columns]"
            ],
            "text/html": [
              "\n",
              "  <div id=\"df-564e9b92-db1e-4354-8e4e-e8f23f60114a\">\n",
              "    <div class=\"colab-df-container\">\n",
              "      <div>\n",
              "<style scoped>\n",
              "    .dataframe tbody tr th:only-of-type {\n",
              "        vertical-align: middle;\n",
              "    }\n",
              "\n",
              "    .dataframe tbody tr th {\n",
              "        vertical-align: top;\n",
              "    }\n",
              "\n",
              "    .dataframe thead th {\n",
              "        text-align: right;\n",
              "    }\n",
              "</style>\n",
              "<table border=\"1\" class=\"dataframe\">\n",
              "  <thead>\n",
              "    <tr style=\"text-align: right;\">\n",
              "      <th></th>\n",
              "      <th>SEQ_NO</th>\n",
              "      <th>APLY_YEAR</th>\n",
              "      <th>F_BI_WIND</th>\n",
              "      <th>C</th>\n",
              "      <th>dpjgi_YEAR</th>\n",
              "      <th>dnum_csang_max</th>\n",
              "      <th>dnum_cHA_max</th>\n",
              "      <th>YMJHAP</th>\n",
              "      <th>UPJONG_NM</th>\n",
              "      <th>NRI_bdframe_NM</th>\n",
              "      <th>...</th>\n",
              "      <th>i15_CNT_SUM</th>\n",
              "      <th>i7_roofSlope_cd_NM</th>\n",
              "      <th>i9_roofMaterial_cd_NM</th>\n",
              "      <th>i8_roofShape_cd_NM</th>\n",
              "      <th>i11_wallCare_cd_NM</th>\n",
              "      <th>i12_door_cd_NM</th>\n",
              "      <th>i12_Door_Gather</th>\n",
              "      <th>i13_windowRate_cd_nm</th>\n",
              "      <th>i13_windowArea_cd_NM</th>\n",
              "      <th>i14_exposeArea_cd_nm</th>\n",
              "    </tr>\n",
              "  </thead>\n",
              "  <tbody>\n",
              "    <tr>\n",
              "      <th>383</th>\n",
              "      <td>384</td>\n",
              "      <td>2020</td>\n",
              "      <td>1.34</td>\n",
              "      <td>0</td>\n",
              "      <td>2002</td>\n",
              "      <td>2</td>\n",
              "      <td>1</td>\n",
              "      <td>7359.34</td>\n",
              "      <td>국유</td>\n",
              "      <td>샌드위치판넬</td>\n",
              "      <td>...</td>\n",
              "      <td>4</td>\n",
              "      <td>11m 이상 20m 이하</td>\n",
              "      <td>샌드위치판넬</td>\n",
              "      <td>복합지붕</td>\n",
              "      <td>자립식 벽체인 경우 또는 볼트 접합 양호함(외벽과 구조부재 이격 없음)</td>\n",
              "      <td>행거도어(샌드위치판넬)</td>\n",
              "      <td>1층,옥상</td>\n",
              "      <td>26 % 이상 50 % 이하</td>\n",
              "      <td>1.1 ㎡ 이상 2.0 ㎡ 이하</td>\n",
              "      <td>바닥면적 25 ㎡ 이하 또는 캐노피 이외 노출 천장 없음</td>\n",
              "    </tr>\n",
              "    <tr>\n",
              "      <th>10156</th>\n",
              "      <td>10157</td>\n",
              "      <td>2020</td>\n",
              "      <td>1.68</td>\n",
              "      <td>0</td>\n",
              "      <td>2006</td>\n",
              "      <td>2</td>\n",
              "      <td>1</td>\n",
              "      <td>17437.24</td>\n",
              "      <td>국유</td>\n",
              "      <td>샌드위치판넬</td>\n",
              "      <td>...</td>\n",
              "      <td>3</td>\n",
              "      <td>10 m 이하 또는 슬래브지붕</td>\n",
              "      <td>철판잇기</td>\n",
              "      <td>외짝지붕, 경사지붕</td>\n",
              "      <td>자립식 벽체인 경우 또는 볼트 접합 양호함(외벽과 구조부재 이격 없음)</td>\n",
              "      <td>강화유리문</td>\n",
              "      <td>1층</td>\n",
              "      <td>25 % 이하 또는 커튼월 구조</td>\n",
              "      <td>1.1 ㎡ 이상 2.0 ㎡ 이하</td>\n",
              "      <td>바닥면적 101 ㎡ 이상</td>\n",
              "    </tr>\n",
              "    <tr>\n",
              "      <th>13221</th>\n",
              "      <td>13222</td>\n",
              "      <td>2020</td>\n",
              "      <td>1.55</td>\n",
              "      <td>0</td>\n",
              "      <td>1999</td>\n",
              "      <td>1</td>\n",
              "      <td>0</td>\n",
              "      <td>10461.17</td>\n",
              "      <td>공유</td>\n",
              "      <td>샌드위치판넬</td>\n",
              "      <td>...</td>\n",
              "      <td>3</td>\n",
              "      <td>11m 이상 20m 이하</td>\n",
              "      <td>샌드위치판넬</td>\n",
              "      <td>박공지붕(솟을지붕, 꺽인지붕 포함)</td>\n",
              "      <td>자립식 벽체인 경우 또는 볼트 접합 양호함(외벽과 구조부재 이격 없음)</td>\n",
              "      <td>강화유리문</td>\n",
              "      <td>1층</td>\n",
              "      <td>25 % 이하 또는 커튼월 구조</td>\n",
              "      <td>2.1 ㎡ 이상 4.0 ㎡ 이하</td>\n",
              "      <td>바닥면적 25 ㎡ 이하 또는 캐노피 이외 노출 천장 없음</td>\n",
              "    </tr>\n",
              "    <tr>\n",
              "      <th>15314</th>\n",
              "      <td>15315</td>\n",
              "      <td>2020</td>\n",
              "      <td>1.21</td>\n",
              "      <td>0</td>\n",
              "      <td>2007</td>\n",
              "      <td>4</td>\n",
              "      <td>1</td>\n",
              "      <td>6058.11</td>\n",
              "      <td>학원</td>\n",
              "      <td>샌드위치판넬</td>\n",
              "      <td>...</td>\n",
              "      <td>3</td>\n",
              "      <td>10 m 이하 또는 슬래브지붕</td>\n",
              "      <td>아스팔트싱글</td>\n",
              "      <td>박공지붕(솟을지붕, 꺽인지붕 포함)</td>\n",
              "      <td>자립식 벽체인 경우 또는 볼트 접합 양호함(외벽과 구조부재 이격 없음)</td>\n",
              "      <td>강화유리문</td>\n",
              "      <td>1층</td>\n",
              "      <td>51 % 이상</td>\n",
              "      <td>1.0 ㎡ 이하</td>\n",
              "      <td>바닥면적 25 ㎡ 이하 또는 캐노피 이외 노출 천장 없음</td>\n",
              "    </tr>\n",
              "    <tr>\n",
              "      <th>16108</th>\n",
              "      <td>16109</td>\n",
              "      <td>2020</td>\n",
              "      <td>1.17</td>\n",
              "      <td>0</td>\n",
              "      <td>2015</td>\n",
              "      <td>1</td>\n",
              "      <td>0</td>\n",
              "      <td>2931.98</td>\n",
              "      <td>국유</td>\n",
              "      <td>샌드위치판넬</td>\n",
              "      <td>...</td>\n",
              "      <td>2</td>\n",
              "      <td>11m 이상 20m 이하</td>\n",
              "      <td>샌드위치판넬</td>\n",
              "      <td>박공지붕(솟을지붕, 꺽인지붕 포함)</td>\n",
              "      <td>볼트 접합 보통(외벽과 구조부재 1 cm 이하 움직임)</td>\n",
              "      <td>행거도어(샌드위치판넬)</td>\n",
              "      <td>1층</td>\n",
              "      <td>25 % 이하 또는 커튼월 구조</td>\n",
              "      <td>1.0 ㎡ 이하</td>\n",
              "      <td>노출 천장 없음</td>\n",
              "    </tr>\n",
              "    <tr>\n",
              "      <th>35410</th>\n",
              "      <td>35411</td>\n",
              "      <td>2020</td>\n",
              "      <td>1.40</td>\n",
              "      <td>0</td>\n",
              "      <td>2002</td>\n",
              "      <td>3</td>\n",
              "      <td>1</td>\n",
              "      <td>16684.16</td>\n",
              "      <td>국유</td>\n",
              "      <td>샌드위치판넬</td>\n",
              "      <td>...</td>\n",
              "      <td>4</td>\n",
              "      <td>11m 이상 20m 이하</td>\n",
              "      <td>샌드위치판넬</td>\n",
              "      <td>박공지붕(솟을지붕, 꺽인지붕 포함)</td>\n",
              "      <td>자립식 벽체인 경우 또는 볼트 접합 양호함(외벽과 구조부재 이격 없음)</td>\n",
              "      <td>셔터</td>\n",
              "      <td>1층,옥상</td>\n",
              "      <td>26 % 이상 50 % 이하</td>\n",
              "      <td>1.1 ㎡ 이상 2.0 ㎡ 이하</td>\n",
              "      <td>바닥면적 26 ㎡ 이상 100 ㎡ 이하</td>\n",
              "    </tr>\n",
              "  </tbody>\n",
              "</table>\n",
              "<p>6 rows × 25 columns</p>\n",
              "</div>\n",
              "      <button class=\"colab-df-convert\" onclick=\"convertToInteractive('df-564e9b92-db1e-4354-8e4e-e8f23f60114a')\"\n",
              "              title=\"Convert this dataframe to an interactive table.\"\n",
              "              style=\"display:none;\">\n",
              "        \n",
              "  <svg xmlns=\"http://www.w3.org/2000/svg\" height=\"24px\"viewBox=\"0 0 24 24\"\n",
              "       width=\"24px\">\n",
              "    <path d=\"M0 0h24v24H0V0z\" fill=\"none\"/>\n",
              "    <path d=\"M18.56 5.44l.94 2.06.94-2.06 2.06-.94-2.06-.94-.94-2.06-.94 2.06-2.06.94zm-11 1L8.5 8.5l.94-2.06 2.06-.94-2.06-.94L8.5 2.5l-.94 2.06-2.06.94zm10 10l.94 2.06.94-2.06 2.06-.94-2.06-.94-.94-2.06-.94 2.06-2.06.94z\"/><path d=\"M17.41 7.96l-1.37-1.37c-.4-.4-.92-.59-1.43-.59-.52 0-1.04.2-1.43.59L10.3 9.45l-7.72 7.72c-.78.78-.78 2.05 0 2.83L4 21.41c.39.39.9.59 1.41.59.51 0 1.02-.2 1.41-.59l7.78-7.78 2.81-2.81c.8-.78.8-2.07 0-2.86zM5.41 20L4 18.59l7.72-7.72 1.47 1.35L5.41 20z\"/>\n",
              "  </svg>\n",
              "      </button>\n",
              "      \n",
              "  <style>\n",
              "    .colab-df-container {\n",
              "      display:flex;\n",
              "      flex-wrap:wrap;\n",
              "      gap: 12px;\n",
              "    }\n",
              "\n",
              "    .colab-df-convert {\n",
              "      background-color: #E8F0FE;\n",
              "      border: none;\n",
              "      border-radius: 50%;\n",
              "      cursor: pointer;\n",
              "      display: none;\n",
              "      fill: #1967D2;\n",
              "      height: 32px;\n",
              "      padding: 0 0 0 0;\n",
              "      width: 32px;\n",
              "    }\n",
              "\n",
              "    .colab-df-convert:hover {\n",
              "      background-color: #E2EBFA;\n",
              "      box-shadow: 0px 1px 2px rgba(60, 64, 67, 0.3), 0px 1px 3px 1px rgba(60, 64, 67, 0.15);\n",
              "      fill: #174EA6;\n",
              "    }\n",
              "\n",
              "    [theme=dark] .colab-df-convert {\n",
              "      background-color: #3B4455;\n",
              "      fill: #D2E3FC;\n",
              "    }\n",
              "\n",
              "    [theme=dark] .colab-df-convert:hover {\n",
              "      background-color: #434B5C;\n",
              "      box-shadow: 0px 1px 3px 1px rgba(0, 0, 0, 0.15);\n",
              "      filter: drop-shadow(0px 1px 2px rgba(0, 0, 0, 0.3));\n",
              "      fill: #FFFFFF;\n",
              "    }\n",
              "  </style>\n",
              "\n",
              "      <script>\n",
              "        const buttonEl =\n",
              "          document.querySelector('#df-564e9b92-db1e-4354-8e4e-e8f23f60114a button.colab-df-convert');\n",
              "        buttonEl.style.display =\n",
              "          google.colab.kernel.accessAllowed ? 'block' : 'none';\n",
              "\n",
              "        async function convertToInteractive(key) {\n",
              "          const element = document.querySelector('#df-564e9b92-db1e-4354-8e4e-e8f23f60114a');\n",
              "          const dataTable =\n",
              "            await google.colab.kernel.invokeFunction('convertToInteractive',\n",
              "                                                     [key], {});\n",
              "          if (!dataTable) return;\n",
              "\n",
              "          const docLinkHtml = 'Like what you see? Visit the ' +\n",
              "            '<a target=\"_blank\" href=https://colab.research.google.com/notebooks/data_table.ipynb>data table notebook</a>'\n",
              "            + ' to learn more about interactive tables.';\n",
              "          element.innerHTML = '';\n",
              "          dataTable['output_type'] = 'display_data';\n",
              "          await google.colab.output.renderOutput(dataTable, element);\n",
              "          const docLink = document.createElement('div');\n",
              "          docLink.innerHTML = docLinkHtml;\n",
              "          element.appendChild(docLink);\n",
              "        }\n",
              "      </script>\n",
              "    </div>\n",
              "  </div>\n",
              "  "
            ]
          },
          "metadata": {},
          "execution_count": 8
        }
      ]
    },
    {
      "cell_type": "code",
      "source": [
        "#특정 열을 추출 (모든 지상 층 수)\n",
        "df['dnum_csang_max']"
      ],
      "metadata": {
        "id": "xBh_ycuSpVEg",
        "colab": {
          "base_uri": "https://localhost:8080/"
        },
        "outputId": "78646c01-674c-4238-fb56-90cedb022c45"
      },
      "execution_count": 9,
      "outputs": [
        {
          "output_type": "execute_result",
          "data": {
            "text/plain": [
              "0        3\n",
              "1        3\n",
              "2        2\n",
              "3        3\n",
              "4        5\n",
              "        ..\n",
              "36896    1\n",
              "36897    1\n",
              "36898    3\n",
              "36899    3\n",
              "36900    5\n",
              "Name: dnum_csang_max, Length: 36901, dtype: int64"
            ]
          },
          "metadata": {},
          "execution_count": 9
        }
      ]
    },
    {
      "cell_type": "code",
      "source": [
        "#열과 행을 동시에 선택(철골조의 모든 지상 층 수)\n",
        "df[df['NRI_bdframe_NM']=='철골조']['dnum_csang_max']"
      ],
      "metadata": {
        "id": "AwJV80LHpfTq",
        "colab": {
          "base_uri": "https://localhost:8080/"
        },
        "outputId": "4beee8b0-5644-41b1-b917-1533caf28e0f"
      },
      "execution_count": 12,
      "outputs": [
        {
          "output_type": "execute_result",
          "data": {
            "text/plain": [
              "25        7\n",
              "27        4\n",
              "31        1\n",
              "43       10\n",
              "45        2\n",
              "         ..\n",
              "36893     1\n",
              "36895     2\n",
              "36896     1\n",
              "36898     3\n",
              "36899     3\n",
              "Name: dnum_csang_max, Length: 14376, dtype: int64"
            ]
          },
          "metadata": {},
          "execution_count": 12
        }
      ]
    },
    {
      "cell_type": "code",
      "source": [
        "from scipy import stats"
      ],
      "metadata": {
        "id": "JYmT57W6puTZ"
      },
      "execution_count": 13,
      "outputs": []
    },
    {
      "cell_type": "code",
      "source": [
        "#열과 행을 동시에 선택(철골조의 모든 지상 층 수 - 14346개의 데이터) df_data에 저장\n",
        "df_data = df[df['NRI_bdframe_NM']=='철골조']['dnum_csang_max']"
      ],
      "metadata": {
        "id": "pOXiErcQpw14"
      },
      "execution_count": 14,
      "outputs": []
    },
    {
      "cell_type": "code",
      "source": [
        "#표본 평균\n",
        "print(df_data.mean())"
      ],
      "metadata": {
        "id": "Qe9tPYz9qCUx",
        "colab": {
          "base_uri": "https://localhost:8080/"
        },
        "outputId": "eabd7ae1-94ff-4736-dbac-87164c58cbbb"
      },
      "execution_count": 15,
      "outputs": [
        {
          "output_type": "stream",
          "name": "stdout",
          "text": [
            "2.2109766277128546\n"
          ]
        }
      ]
    },
    {
      "cell_type": "code",
      "source": [
        "#표본의 평균에 최대한 근접한 평균 2.21은 모평균의 추정치로 신뢰할만 함\n",
        "expected_mean = 2.21\n",
        "result = stats.ttest_1samp(df_data, expected_mean)\n",
        "print('t statistic : %.3f \\np-value : %.3f' % (result))"
      ],
      "metadata": {
        "id": "7vti-yOBqGwI",
        "colab": {
          "base_uri": "https://localhost:8080/"
        },
        "outputId": "2932119c-ea95-4c2a-c8b4-a025e5e71184"
      },
      "execution_count": 16,
      "outputs": [
        {
          "output_type": "stream",
          "name": "stdout",
          "text": [
            "t statistic : 0.100 \n",
            "p-value : 0.920\n"
          ]
        }
      ]
    },
    {
      "cell_type": "code",
      "source": [
        "#표본의 평균에 제법 근접한 평균 2.18은 p-value가 매우 낮음. 귀무가설(모평균이 2.18이라는 예측)이 기각\n",
        "expected_mean = 2.18\n",
        "result = stats.ttest_1samp(df_data, expected_mean)\n",
        "print('t statistic : %.3f \\np-value : %.3f' % (result)) # result변수의 결과값을 소수점 셋째자리까지 표시"
      ],
      "metadata": {
        "colab": {
          "base_uri": "https://localhost:8080/"
        },
        "id": "fiB9xc-TpEe5",
        "outputId": "6236ba6c-9387-4180-ebbe-707efa91c947"
      },
      "execution_count": 17,
      "outputs": [
        {
          "output_type": "stream",
          "name": "stdout",
          "text": [
            "t statistic : 3.184 \n",
            "p-value : 0.001\n"
          ]
        }
      ]
    },
    {
      "cell_type": "code",
      "source": [
        "#열과 행을 동시에 선택(샌드위치판넬의 모든 지상 층 수 - 6개의 데이터) df_data에 저장\n",
        "df_data = df[df['NRI_bdframe_NM']=='샌드위치판넬']['dnum_csang_max']"
      ],
      "metadata": {
        "id": "xbmjAUXEqXyJ"
      },
      "execution_count": 18,
      "outputs": []
    },
    {
      "cell_type": "code",
      "source": [
        "#표본 평균\n",
        "print(df_data.mean())"
      ],
      "metadata": {
        "colab": {
          "base_uri": "https://localhost:8080/"
        },
        "id": "Ykce9iPwquhZ",
        "outputId": "2b7a6ade-5fd0-4b8e-92e8-8b74cd23f84f"
      },
      "execution_count": 19,
      "outputs": [
        {
          "output_type": "stream",
          "name": "stdout",
          "text": [
            "2.1666666666666665\n"
          ]
        }
      ]
    },
    {
      "cell_type": "code",
      "source": [
        "#표본의 평균에 최대한 근접한 평균 2.15은 모평균의 추정치로 신뢰할만 함\n",
        "expected_mean = 2.15\n",
        "result = stats.ttest_1samp(df_data, expected_mean)\n",
        "print('t statistic : %.3f \\np-value : %.3f' % (result)) #result변수의 결과값을 소수점 셋째짜리까지 표시"
      ],
      "metadata": {
        "colab": {
          "base_uri": "https://localhost:8080/"
        },
        "id": "-40Rl43Qq3lr",
        "outputId": "a4bcac81-33cb-4d5e-8f7e-3b58ec93058b"
      },
      "execution_count": 20,
      "outputs": [
        {
          "output_type": "stream",
          "name": "stdout",
          "text": [
            "t statistic : 0.035 \n",
            "p-value : 0.973\n"
          ]
        }
      ]
    },
    {
      "cell_type": "code",
      "source": [
        "#표본의 평균에 최대한 근접한 평균 1.7은 모평균의 추정치로 신뢰할만 함\n",
        "expected_mean = 1.7\n",
        "result = stats.ttest_1samp(df_data, expected_mean)\n",
        "print('t statistic : %.3f \\np-value : %.3f' % (result)) #result변수의 결과값을 소수점 셋째짜리까지 표시"
      ],
      "metadata": {
        "colab": {
          "base_uri": "https://localhost:8080/"
        },
        "id": "S99WhyeprZZj",
        "outputId": "d999dc59-3965-4d37-b4df-f8b384ce5752"
      },
      "execution_count": 21,
      "outputs": [
        {
          "output_type": "stream",
          "name": "stdout",
          "text": [
            "t statistic : 0.978 \n",
            "p-value : 0.373\n"
          ]
        }
      ]
    },
    {
      "cell_type": "code",
      "source": [
        "#표본의 평균에 최대한 근접한 평균 1.5은 모평균의 추정치로 신뢰할만 함\n",
        "expected_mean = 1.5\n",
        "result = stats.ttest_1samp(df_data, expected_mean)\n",
        "print('t statistic : %.3f \\np-value : %.3f' % (result)) #result변수의 결과값을 소수점 셋째짜리까지 표시"
      ],
      "metadata": {
        "colab": {
          "base_uri": "https://localhost:8080/"
        },
        "id": "_i1fF41hrqG1",
        "outputId": "b40eef1d-7c93-4578-8bf3-2d42bce0def0"
      },
      "execution_count": 22,
      "outputs": [
        {
          "output_type": "stream",
          "name": "stdout",
          "text": [
            "t statistic : 1.397 \n",
            "p-value : 0.221\n"
          ]
        }
      ]
    },
    {
      "cell_type": "code",
      "source": [
        "#표본의 평균에 최대한 근접한 평균 1.0은 모평균의 추정치로 신뢰할만 함\n",
        "expected_mean = 1.0\n",
        "result = stats.ttest_1samp(df_data, expected_mean)\n",
        "print('t statistic : %.3f \\np-value : %.3f' % (result)) #result변수의 결과값을 소수점 셋째짜리까지 표시"
      ],
      "metadata": {
        "colab": {
          "base_uri": "https://localhost:8080/"
        },
        "id": "sfcOHz6Mrsqj",
        "outputId": "6f8a79e6-07de-4965-bbb4-6b5752e07652"
      },
      "execution_count": 23,
      "outputs": [
        {
          "output_type": "stream",
          "name": "stdout",
          "text": [
            "t statistic : 2.445 \n",
            "p-value : 0.058\n"
          ]
        }
      ]
    }
  ]
}