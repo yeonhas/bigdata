{
  "nbformat": 4,
  "nbformat_minor": 0,
  "metadata": {
    "colab": {
      "name": "test2_bigdata.ipynb",
      "provenance": [],
      "collapsed_sections": [],
      "authorship_tag": "ABX9TyNHDOacHN6q+VwVLCjib8fe",
      "include_colab_link": true
    },
    "kernelspec": {
      "name": "python3",
      "display_name": "Python 3"
    },
    "language_info": {
      "name": "python"
    }
  },
  "cells": [
    {
      "cell_type": "markdown",
      "metadata": {
        "id": "view-in-github",
        "colab_type": "text"
      },
      "source": [
        "<a href=\"https://colab.research.google.com/github/yeonhas/bigdata/blob/main/test2_bigdata.ipynb\" target=\"_parent\"><img src=\"https://colab.research.google.com/assets/colab-badge.svg\" alt=\"Open In Colab\"/></a>"
      ]
    },
    {
      "cell_type": "markdown",
      "source": [
        "소방안전 빅데이터 플랫폼 초급교육 1강 실습의 과제\n",
        "\n",
        "\n",
        "\n"
      ],
      "metadata": {
        "id": "sfmYLi_c0yk0"
      }
    },
    {
      "cell_type": "code",
      "execution_count": null,
      "metadata": {
        "colab": {
          "base_uri": "https://localhost:8080/"
        },
        "id": "AeutPeAI0nuk",
        "outputId": "114b646d-dff0-45ab-b06f-38fbfa527d33"
      },
      "outputs": [
        {
          "output_type": "stream",
          "name": "stdout",
          "text": [
            "Mounted at /content/gdrive/\n"
          ]
        }
      ],
      "source": [
        "from google.colab import drive\n",
        "drive.mount('/content/gdrive/')"
      ]
    },
    {
      "cell_type": "code",
      "source": [
        "import os\n",
        "\n",
        "print(\"before: %s\"%os.getcwd())\n",
        "os.chdir(\"/content/gdrive/My Drive/소방청 데이터/\")\n",
        "print(\"after: %s\"%os.getcwd())"
      ],
      "metadata": {
        "colab": {
          "base_uri": "https://localhost:8080/"
        },
        "id": "G-qrRBhG07iT",
        "outputId": "e0d748f1-cc5a-49d5-f32d-5d8c6eee2932"
      },
      "execution_count": null,
      "outputs": [
        {
          "output_type": "stream",
          "name": "stdout",
          "text": [
            "before: /content\n",
            "after: /content/gdrive/My Drive/소방청 데이터\n"
          ]
        }
      ]
    },
    {
      "cell_type": "code",
      "source": [
        "import pandas as pd"
      ],
      "metadata": {
        "id": "EG7kvdU509M6"
      },
      "execution_count": null,
      "outputs": []
    },
    {
      "cell_type": "code",
      "source": [
        "df = pd.read_csv('특수건물 방화시설 현황.csv')"
      ],
      "metadata": {
        "id": "CmPX8DC01Ak-"
      },
      "execution_count": null,
      "outputs": []
    },
    {
      "cell_type": "code",
      "source": [
        "df.head()"
      ],
      "metadata": {
        "colab": {
          "base_uri": "https://localhost:8080/",
          "height": 548
        },
        "id": "e9GQvnyx1COC",
        "outputId": "7532433f-9b61-4625-ab92-1cc8ccf6964d"
      },
      "execution_count": null,
      "outputs": [
        {
          "output_type": "execute_result",
          "data": {
            "text/plain": [
              "            doc_nm  year  col_grp_nm    col_nm col_gb_nm  INST_CNT  INST_RATE  \\\n",
              "0  가스계소화설비 업종별 양호율  2018     안전관리 항목  소방시설 미설치   업종별 양호율      3637        0.0   \n",
              "1    가스계소화설비 항목별평가  2017  가스계소화설비 항목      관리 등       NaN         0        0.0   \n",
              "2    가스계소화설비 항목별평가  2017  가스계소화설비 항목      방호구역       NaN         0        0.0   \n",
              "3    가스계소화설비 항목별평가  2017  가스계소화설비 항목   배관,선택밸브       NaN         0        0.0   \n",
              "4    가스계소화설비 항목별평가  2017  가스계소화설비 항목      분사헤드       NaN         0        0.0   \n",
              "\n",
              "   GOOD_CNT  GOOD_RATE  NORM_CNT  NORM_RATE  INDQ_CNT  INDQ_RATE  \n",
              "0      2699       74.2       927       25.5        11        0.3  \n",
              "1      3077        0.0         0        0.0       569        0.0  \n",
              "2      2730        0.0         0        0.0       916        0.0  \n",
              "3      3361        0.0         0        0.0       285        0.0  \n",
              "4      3610        0.0         0        0.0        36        0.0  "
            ],
            "text/html": [
              "\n",
              "  <div id=\"df-7412e551-0b73-4e9d-bda2-47f21a5180ef\">\n",
              "    <div class=\"colab-df-container\">\n",
              "      <div>\n",
              "<style scoped>\n",
              "    .dataframe tbody tr th:only-of-type {\n",
              "        vertical-align: middle;\n",
              "    }\n",
              "\n",
              "    .dataframe tbody tr th {\n",
              "        vertical-align: top;\n",
              "    }\n",
              "\n",
              "    .dataframe thead th {\n",
              "        text-align: right;\n",
              "    }\n",
              "</style>\n",
              "<table border=\"1\" class=\"dataframe\">\n",
              "  <thead>\n",
              "    <tr style=\"text-align: right;\">\n",
              "      <th></th>\n",
              "      <th>doc_nm</th>\n",
              "      <th>year</th>\n",
              "      <th>col_grp_nm</th>\n",
              "      <th>col_nm</th>\n",
              "      <th>col_gb_nm</th>\n",
              "      <th>INST_CNT</th>\n",
              "      <th>INST_RATE</th>\n",
              "      <th>GOOD_CNT</th>\n",
              "      <th>GOOD_RATE</th>\n",
              "      <th>NORM_CNT</th>\n",
              "      <th>NORM_RATE</th>\n",
              "      <th>INDQ_CNT</th>\n",
              "      <th>INDQ_RATE</th>\n",
              "    </tr>\n",
              "  </thead>\n",
              "  <tbody>\n",
              "    <tr>\n",
              "      <th>0</th>\n",
              "      <td>가스계소화설비 업종별 양호율</td>\n",
              "      <td>2018</td>\n",
              "      <td>안전관리 항목</td>\n",
              "      <td>소방시설 미설치</td>\n",
              "      <td>업종별 양호율</td>\n",
              "      <td>3637</td>\n",
              "      <td>0.0</td>\n",
              "      <td>2699</td>\n",
              "      <td>74.2</td>\n",
              "      <td>927</td>\n",
              "      <td>25.5</td>\n",
              "      <td>11</td>\n",
              "      <td>0.3</td>\n",
              "    </tr>\n",
              "    <tr>\n",
              "      <th>1</th>\n",
              "      <td>가스계소화설비 항목별평가</td>\n",
              "      <td>2017</td>\n",
              "      <td>가스계소화설비 항목</td>\n",
              "      <td>관리 등</td>\n",
              "      <td>NaN</td>\n",
              "      <td>0</td>\n",
              "      <td>0.0</td>\n",
              "      <td>3077</td>\n",
              "      <td>0.0</td>\n",
              "      <td>0</td>\n",
              "      <td>0.0</td>\n",
              "      <td>569</td>\n",
              "      <td>0.0</td>\n",
              "    </tr>\n",
              "    <tr>\n",
              "      <th>2</th>\n",
              "      <td>가스계소화설비 항목별평가</td>\n",
              "      <td>2017</td>\n",
              "      <td>가스계소화설비 항목</td>\n",
              "      <td>방호구역</td>\n",
              "      <td>NaN</td>\n",
              "      <td>0</td>\n",
              "      <td>0.0</td>\n",
              "      <td>2730</td>\n",
              "      <td>0.0</td>\n",
              "      <td>0</td>\n",
              "      <td>0.0</td>\n",
              "      <td>916</td>\n",
              "      <td>0.0</td>\n",
              "    </tr>\n",
              "    <tr>\n",
              "      <th>3</th>\n",
              "      <td>가스계소화설비 항목별평가</td>\n",
              "      <td>2017</td>\n",
              "      <td>가스계소화설비 항목</td>\n",
              "      <td>배관,선택밸브</td>\n",
              "      <td>NaN</td>\n",
              "      <td>0</td>\n",
              "      <td>0.0</td>\n",
              "      <td>3361</td>\n",
              "      <td>0.0</td>\n",
              "      <td>0</td>\n",
              "      <td>0.0</td>\n",
              "      <td>285</td>\n",
              "      <td>0.0</td>\n",
              "    </tr>\n",
              "    <tr>\n",
              "      <th>4</th>\n",
              "      <td>가스계소화설비 항목별평가</td>\n",
              "      <td>2017</td>\n",
              "      <td>가스계소화설비 항목</td>\n",
              "      <td>분사헤드</td>\n",
              "      <td>NaN</td>\n",
              "      <td>0</td>\n",
              "      <td>0.0</td>\n",
              "      <td>3610</td>\n",
              "      <td>0.0</td>\n",
              "      <td>0</td>\n",
              "      <td>0.0</td>\n",
              "      <td>36</td>\n",
              "      <td>0.0</td>\n",
              "    </tr>\n",
              "  </tbody>\n",
              "</table>\n",
              "</div>\n",
              "      <button class=\"colab-df-convert\" onclick=\"convertToInteractive('df-7412e551-0b73-4e9d-bda2-47f21a5180ef')\"\n",
              "              title=\"Convert this dataframe to an interactive table.\"\n",
              "              style=\"display:none;\">\n",
              "        \n",
              "  <svg xmlns=\"http://www.w3.org/2000/svg\" height=\"24px\"viewBox=\"0 0 24 24\"\n",
              "       width=\"24px\">\n",
              "    <path d=\"M0 0h24v24H0V0z\" fill=\"none\"/>\n",
              "    <path d=\"M18.56 5.44l.94 2.06.94-2.06 2.06-.94-2.06-.94-.94-2.06-.94 2.06-2.06.94zm-11 1L8.5 8.5l.94-2.06 2.06-.94-2.06-.94L8.5 2.5l-.94 2.06-2.06.94zm10 10l.94 2.06.94-2.06 2.06-.94-2.06-.94-.94-2.06-.94 2.06-2.06.94z\"/><path d=\"M17.41 7.96l-1.37-1.37c-.4-.4-.92-.59-1.43-.59-.52 0-1.04.2-1.43.59L10.3 9.45l-7.72 7.72c-.78.78-.78 2.05 0 2.83L4 21.41c.39.39.9.59 1.41.59.51 0 1.02-.2 1.41-.59l7.78-7.78 2.81-2.81c.8-.78.8-2.07 0-2.86zM5.41 20L4 18.59l7.72-7.72 1.47 1.35L5.41 20z\"/>\n",
              "  </svg>\n",
              "      </button>\n",
              "      \n",
              "  <style>\n",
              "    .colab-df-container {\n",
              "      display:flex;\n",
              "      flex-wrap:wrap;\n",
              "      gap: 12px;\n",
              "    }\n",
              "\n",
              "    .colab-df-convert {\n",
              "      background-color: #E8F0FE;\n",
              "      border: none;\n",
              "      border-radius: 50%;\n",
              "      cursor: pointer;\n",
              "      display: none;\n",
              "      fill: #1967D2;\n",
              "      height: 32px;\n",
              "      padding: 0 0 0 0;\n",
              "      width: 32px;\n",
              "    }\n",
              "\n",
              "    .colab-df-convert:hover {\n",
              "      background-color: #E2EBFA;\n",
              "      box-shadow: 0px 1px 2px rgba(60, 64, 67, 0.3), 0px 1px 3px 1px rgba(60, 64, 67, 0.15);\n",
              "      fill: #174EA6;\n",
              "    }\n",
              "\n",
              "    [theme=dark] .colab-df-convert {\n",
              "      background-color: #3B4455;\n",
              "      fill: #D2E3FC;\n",
              "    }\n",
              "\n",
              "    [theme=dark] .colab-df-convert:hover {\n",
              "      background-color: #434B5C;\n",
              "      box-shadow: 0px 1px 3px 1px rgba(0, 0, 0, 0.15);\n",
              "      filter: drop-shadow(0px 1px 2px rgba(0, 0, 0, 0.3));\n",
              "      fill: #FFFFFF;\n",
              "    }\n",
              "  </style>\n",
              "\n",
              "      <script>\n",
              "        const buttonEl =\n",
              "          document.querySelector('#df-7412e551-0b73-4e9d-bda2-47f21a5180ef button.colab-df-convert');\n",
              "        buttonEl.style.display =\n",
              "          google.colab.kernel.accessAllowed ? 'block' : 'none';\n",
              "\n",
              "        async function convertToInteractive(key) {\n",
              "          const element = document.querySelector('#df-7412e551-0b73-4e9d-bda2-47f21a5180ef');\n",
              "          const dataTable =\n",
              "            await google.colab.kernel.invokeFunction('convertToInteractive',\n",
              "                                                     [key], {});\n",
              "          if (!dataTable) return;\n",
              "\n",
              "          const docLinkHtml = 'Like what you see? Visit the ' +\n",
              "            '<a target=\"_blank\" href=https://colab.research.google.com/notebooks/data_table.ipynb>data table notebook</a>'\n",
              "            + ' to learn more about interactive tables.';\n",
              "          element.innerHTML = '';\n",
              "          dataTable['output_type'] = 'display_data';\n",
              "          await google.colab.output.renderOutput(dataTable, element);\n",
              "          const docLink = document.createElement('div');\n",
              "          docLink.innerHTML = docLinkHtml;\n",
              "          element.appendChild(docLink);\n",
              "        }\n",
              "      </script>\n",
              "    </div>\n",
              "  </div>\n",
              "  "
            ]
          },
          "metadata": {},
          "execution_count": 6
        }
      ]
    }
  ]
}